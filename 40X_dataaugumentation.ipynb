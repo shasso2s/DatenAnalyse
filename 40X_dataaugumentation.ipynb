{
 "cells": [
  {
   "cell_type": "code",
   "execution_count": 118,
   "id": "ae8a24ce",
   "metadata": {},
   "outputs": [],
   "source": [
    "import glob\n",
    "import cv2\n",
    "import matplotlib.pyplot as plt\n",
    "import os\n",
    "import numpy as np\n",
    "from sklearn import preprocessing\n",
    "from keras.models import Model, Sequential\n",
    "import os\n",
    "import seaborn as sns\n",
    "from keras.applications.vgg16 import VGG16\n",
    "import pandas as pd\n",
    "import glob\n",
    "from sklearn import preprocessing\n",
    "import numpy as np\n",
    "import matplotlib.pyplot as plt\n",
    "from itertools import cycle\n",
    "from sklearn.metrics import plot_roc_curve\n",
    "import matplotlib.pyplot as plt\n",
    "from sklearn.metrics import roc_curve, auc\n",
    "from sklearn.preprocessing import label_binarize\n",
    "from scipy import interp\n",
    "from sklearn.metrics import roc_auc_score\n",
    "from sklearn.metrics import classification_report, confusion_matrix\n",
    "from sklearn import preprocessing\n",
    "import pandas as pd\n",
    "import numpy as np\n",
    "import matplotlib.pyplot as plt\n",
    "import math as m\n",
    "from sklearn.model_selection import train_test_split, GridSearchCV\n",
    "from sklearn.feature_selection import SelectKBest,f_regression\n",
    "import seaborn as sns\n",
    "from scipy import stats\n",
    "from scipy.stats.stats import pearsonr\n",
    "from sklearn.linear_model import LogisticRegression\n",
    "from sklearn.metrics import confusion_matrix, accuracy_score\n",
    "from sklearn.metrics import jaccard_score\n",
    "from sklearn.metrics import f1_score,recall_score,precision_score\n",
    "from sklearn.metrics import plot_confusion_matrix\n",
    "from sklearn.metrics import classification_report\n",
    "import pandas as pd\n",
    "import numpy as np\n",
    "import matplotlib.pyplot as plt\n",
    "import math as m\n",
    "from sklearn.model_selection import train_test_split, GridSearchCV\n",
    "from sklearn.feature_selection import SelectKBest,f_regression\n",
    "import seaborn as sns\n",
    "from scipy import stats\n",
    "\n",
    "from sklearn.linear_model import LogisticRegression\n",
    "from sklearn.metrics import confusion_matrix, accuracy_score\n",
    "\n",
    "from sklearn.metrics import plot_confusion_matrix\n",
    "from sklearn.metrics import classification_report\n",
    "import xgboost as xgb"
   ]
  },
  {
   "cell_type": "markdown",
   "id": "9eea354c",
   "metadata": {},
   "source": [
    "#####  let's have a look how the distribution of the Training dataset looks like:\n",
    "      *equals Distribution :75 images in each subclass"
   ]
  },
  {
   "cell_type": "code",
   "execution_count": 54,
   "id": "1114cb7f",
   "metadata": {},
   "outputs": [
    {
     "name": "stdout",
     "output_type": "stream",
     "text": [
      "Number of images in the training set is 0\n"
     ]
    },
    {
     "ename": "TypeError",
     "evalue": "'function' object is not subscriptable",
     "output_type": "error",
     "traceback": [
      "\u001b[1;31m---------------------------------------------------------------------------\u001b[0m",
      "\u001b[1;31mTypeError\u001b[0m                                 Traceback (most recent call last)",
      "\u001b[1;32m<ipython-input-54-31b6910a65ee>\u001b[0m in \u001b[0;36m<module>\u001b[1;34m\u001b[0m\n\u001b[0;32m     16\u001b[0m \u001b[0mdata_train\u001b[0m\u001b[1;33m=\u001b[0m\u001b[0mdata_train\u001b[0m\u001b[1;33m(\u001b[0m\u001b[1;33m)\u001b[0m\u001b[1;33m\u001b[0m\u001b[1;33m\u001b[0m\u001b[0m\n\u001b[0;32m     17\u001b[0m \u001b[0mprint\u001b[0m\u001b[1;33m(\u001b[0m\u001b[1;34m'Number of images in the training set is {}'\u001b[0m\u001b[1;33m.\u001b[0m\u001b[0mformat\u001b[0m\u001b[1;33m(\u001b[0m\u001b[0mlen\u001b[0m\u001b[1;33m(\u001b[0m\u001b[0mdata_train\u001b[0m\u001b[1;33m)\u001b[0m\u001b[1;33m)\u001b[0m\u001b[1;33m)\u001b[0m\u001b[1;33m\u001b[0m\u001b[1;33m\u001b[0m\u001b[0m\n\u001b[1;32m---> 18\u001b[1;33m \u001b[0mprint\u001b[0m\u001b[1;33m(\u001b[0m\u001b[0mdata_train\u001b[0m\u001b[1;33m[\u001b[0m\u001b[1;34m'sublabel'\u001b[0m\u001b[1;33m]\u001b[0m\u001b[1;33m.\u001b[0m\u001b[0munique\u001b[0m\u001b[1;33m(\u001b[0m\u001b[1;33m)\u001b[0m\u001b[1;33m==\u001b[0m\u001b[0mdata_test\u001b[0m\u001b[1;33m[\u001b[0m\u001b[1;34m'sublabel'\u001b[0m\u001b[1;33m]\u001b[0m\u001b[1;33m.\u001b[0m\u001b[0munique\u001b[0m\u001b[1;33m(\u001b[0m\u001b[1;33m)\u001b[0m\u001b[1;33m)\u001b[0m\u001b[1;33m\u001b[0m\u001b[1;33m\u001b[0m\u001b[0m\n\u001b[0m\u001b[0;32m     19\u001b[0m \u001b[1;31m#print(data_test['sublabel'].unique())\u001b[0m\u001b[1;33m\u001b[0m\u001b[1;33m\u001b[0m\u001b[1;33m\u001b[0m\u001b[0m\n\u001b[0;32m     20\u001b[0m \u001b[1;31m#print(data_train['sublabel'].unique())\u001b[0m\u001b[1;33m\u001b[0m\u001b[1;33m\u001b[0m\u001b[1;33m\u001b[0m\u001b[0m\n",
      "\u001b[1;31mTypeError\u001b[0m: 'function' object is not subscriptable"
     ]
    }
   ],
   "source": [
    "def data_train():\n",
    "        path_train=glob.glob('40_A_P/Train_40/*/*.png')\n",
    "        \n",
    "        data = pd.DataFrame(index=np.arange(0,len(path_train)), columns=['sublabel','path','M_F_40'])\n",
    "        patient_id=[]\n",
    "        sublabel=[]\n",
    "        class_40=[]\n",
    "        for i in range(len(path_train)):\n",
    "                sublabel.append(path_train[i].split('\\\\')[1])\n",
    "                class_40.append('Sublabel')\n",
    "        data['path']=path_train\n",
    "        data['sublabel']=sublabel\n",
    "        data['M_F_40']=class_40\n",
    "        return data\n",
    "\n",
    "data_train=data_train()\n",
    "print('Number of images in the training set is {}'.format(len(data_train)))\n",
    "print(data_train['sublabel'].unique()==data_test['sublabel'].unique())\n",
    "#print(data_test['sublabel'].unique())\n",
    "#print(data_train['sublabel'].unique())\n",
    "\n"
   ]
  },
  {
   "cell_type": "code",
   "execution_count": 6,
   "id": "98597ed6",
   "metadata": {},
   "outputs": [
    {
     "data": {
      "image/png": "[encoded data removed]",
      "text/plain": [
       "<Figure size 432x288 with 1 Axes>"
      ]
     },
     "metadata": {
      "needs_background": "light"
     },
     "output_type": "display_data"
    }
   ],
   "source": [
    "ax = sns.countplot(x=\"M_F_40\",hue='sublabel', data=data_train,palette=\"dark\").set_title('Distribution of sublabels in Trainingset with M_F_40')\n"
   ]
  },
  {
   "cell_type": "markdown",
   "id": "9a66d06a",
   "metadata": {},
   "source": [
    " Digramm shows the Distribution of  of 8 subclasses in the Training set"
   ]
  },
  {
   "cell_type": "code",
   "execution_count": 9,
   "id": "86b7a979",
   "metadata": {},
   "outputs": [
    {
     "name": "stdout",
     "output_type": "stream",
     "text": [
      "Number of images in the testing set is 315\n",
      "['Adenosis' 'ductal_carcinoma' 'fibroadenoma' 'lobular_carcinoma'\n",
      " 'mucinous_carcinoma' 'papillary_carcinoma' 'phyllodes_tumor'\n",
      " 'tubular_adenoma']\n"
     ]
    }
   ],
   "source": [
    "def data_test():\n",
    "        path_valid = glob.glob('0_A_P/Test_40/*/*.png', recursive=True)\n",
    "\n",
    "        data = pd.DataFrame(index=np.arange(0, len(path_valid )), columns=['sublabel', 'path','M_F_40'])\n",
    "        patient_id = []\n",
    "        sublabel = []\n",
    "        class_40=[]\n",
    "        for i in range(len(path_valid )):\n",
    "            sublabel.append(path_valid [i].split('\\\\')[1])\n",
    "            class_40.append('Sublabel')\n",
    "        data['path'] = path_valid\n",
    "        data['sublabel'] = sublabel\n",
    "        data['M_F_40']=class_40\n",
    "        return data\n",
    "data_test=data_test()\n",
    "print('Number of images in the testing set is {}'.format(len(data_test)))\n",
    "print(data_test['sublabel'].unique())"
   ]
  },
  {
   "cell_type": "code",
   "execution_count": 10,
   "id": "15776d76",
   "metadata": {},
   "outputs": [
    {
     "data": {
      "image/png": "[encoded data removed]",
      "text/plain": [
       "<Figure size 432x288 with 1 Axes>"
      ]
     },
     "metadata": {
      "needs_background": "light"
     },
     "output_type": "display_data"
    }
   ],
   "source": [
    "ax = sns.countplot(x=\"M_F_40\",hue='sublabel', data=data_test,palette=\"dark\").set_title('Distribution of sublabels in Testingset with M_F_40')\n"
   ]
  },
  {
   "cell_type": "markdown",
   "id": "0c3972c9",
   "metadata": {},
   "source": [
    " Digramm shows the Distribution of  of 8 subclasses in the Testing set"
   ]
  },
  {
   "cell_type": "code",
   "execution_count": 119,
   "id": "a4b61f35",
   "metadata": {},
   "outputs": [
    {
     "name": "stdout",
     "output_type": "stream",
     "text": [
      "1146\n"
     ]
    }
   ],
   "source": [
    "def data_train():\n",
    "    train_images=[]\n",
    "    train_labels=[]\n",
    "    SIZE=224\n",
    "    i=0\n",
    "    for directory_path in glob.glob(\"40_A_P/Train_40/*\"):\n",
    "        label = directory_path.split('\\\\')[-1]\n",
    "        for img_path  in glob.glob(os.path.join(directory_path,\"*/*.png\")):    \n",
    "            try:\n",
    "                img = cv2.imread(img_path)       \n",
    "                img = cv2.resize(img, (SIZE, SIZE))\n",
    "                train_images.append(img)\n",
    "                train_labels.append(label)\n",
    "            except:\n",
    "                break\n",
    "    return train_images,train_labels\n",
    "        \n",
    "train_images,train_labels=data_train()\n",
    "print(len(train_images))"
   ]
  },
  {
   "cell_type": "code",
   "execution_count": 120,
   "id": "46f579d6",
   "metadata": {},
   "outputs": [
    {
     "name": "stdout",
     "output_type": "stream",
     "text": [
      "320\n"
     ]
    }
   ],
   "source": [
    "def data_test():\n",
    "    test_images=[]\n",
    "    test_labels=[]\n",
    "    SIZE=224\n",
    "    for directory_path in glob.glob(\"40_A_P/Test_40/*\"):\n",
    "        label = directory_path.split('\\\\')[-1]\n",
    "        for img_path in glob.glob(os.path.join(directory_path,\"*.png\")):\n",
    "            try:\n",
    "                img = cv2.imread(img_path) \n",
    "                img = cv2.resize(img, (SIZE, SIZE))\n",
    "                test_images.append(img)\n",
    "                test_labels.append(label)\n",
    "            except:\n",
    "                break\n",
    "    return test_images,test_labels\n",
    "        \n",
    "test_images,test_labels=data_test()\n",
    "print(len(test_labels))"
   ]
  },
  {
   "cell_type": "markdown",
   "id": "6ba38dbd",
   "metadata": {},
   "source": [
    "convert images un und sublabel into array:"
   ]
  },
  {
   "cell_type": "code",
   "execution_count": 121,
   "id": "9f7f4c38",
   "metadata": {},
   "outputs": [],
   "source": [
    "train_images = np.array(train_images)\n",
    "train_labels = np.array(train_labels)\n",
    "\n",
    "test_images = np.array(test_images)\n",
    "test_labels = np.array(test_labels)\n",
    "\n",
    "\n",
    "\n"
   ]
  },
  {
   "cell_type": "markdown",
   "id": "91ff435c",
   "metadata": {},
   "source": [
    "transform String labels into integers labels"
   ]
  },
  {
   "cell_type": "code",
   "execution_count": 122,
   "id": "7a33983a",
   "metadata": {},
   "outputs": [],
   "source": [
    "\n",
    "#Encode labels from text to integers.\n",
    "from sklearn import preprocessing\n",
    "le = preprocessing.LabelEncoder()\n",
    "le.fit(test_labels)\n",
    "test_labels_encoded = le.transform(test_labels)\n",
    "\n",
    "le.fit(train_labels)\n",
    "train_labels_encoded = le.transform(train_labels)\n",
    "\n",
    "\n",
    "\n"
   ]
  },
  {
   "cell_type": "code",
   "execution_count": 123,
   "id": "a97aed3f",
   "metadata": {},
   "outputs": [],
   "source": [
    "#Split data into test and train datasets (already split but assigning to meaningful convention)\n",
    "x_train=train_images\n",
    "y_train=train_labels_encoded\n",
    "x_test=test_images\n",
    "y_test = test_labels_encoded\n",
    "\n"
   ]
  },
  {
   "cell_type": "markdown",
   "id": "05471fa3",
   "metadata": {},
   "source": [
    "transform pixel in number between [0,1]"
   ]
  },
  {
   "cell_type": "code",
   "execution_count": 124,
   "id": "e084d5ff",
   "metadata": {},
   "outputs": [],
   "source": [
    "x_train, x_test = x_train / 255.0, x_test / 255.0\n"
   ]
  },
  {
   "cell_type": "code",
   "execution_count": 125,
   "id": "c349fae5",
   "metadata": {},
   "outputs": [
    {
     "name": "stdout",
     "output_type": "stream",
     "text": [
      "Model: \"vgg16\"\n",
      "_________________________________________________________________\n",
      " Layer (type)                Output Shape              Param #   \n",
      "=================================================================\n",
      " input_9 (InputLayer)        [(None, 224, 224, 3)]     0         \n",
      "                                                                 \n",
      " block1_conv1 (Conv2D)       (None, 224, 224, 64)      1792      \n",
      "                                                                 \n",
      " block1_conv2 (Conv2D)       (None, 224, 224, 64)      36928     \n",
      "                                                                 \n",
      " block1_pool (MaxPooling2D)  (None, 112, 112, 64)      0         \n",
      "                                                                 \n",
      " block2_conv1 (Conv2D)       (None, 112, 112, 128)     73856     \n",
      "                                                                 \n",
      " block2_conv2 (Conv2D)       (None, 112, 112, 128)     147584    \n",
      "                                                                 \n",
      " block2_pool (MaxPooling2D)  (None, 56, 56, 128)       0         \n",
      "                                                                 \n",
      " block3_conv1 (Conv2D)       (None, 56, 56, 256)       295168    \n",
      "                                                                 \n",
      " block3_conv2 (Conv2D)       (None, 56, 56, 256)       590080    \n",
      "                                                                 \n",
      " block3_conv3 (Conv2D)       (None, 56, 56, 256)       590080    \n",
      "                                                                 \n",
      " block3_pool (MaxPooling2D)  (None, 28, 28, 256)       0         \n",
      "                                                                 \n",
      " block4_conv1 (Conv2D)       (None, 28, 28, 512)       1180160   \n",
      "                                                                 \n",
      " block4_conv2 (Conv2D)       (None, 28, 28, 512)       2359808   \n",
      "                                                                 \n",
      " block4_conv3 (Conv2D)       (None, 28, 28, 512)       2359808   \n",
      "                                                                 \n",
      " block4_pool (MaxPooling2D)  (None, 14, 14, 512)       0         \n",
      "                                                                 \n",
      " block5_conv1 (Conv2D)       (None, 14, 14, 512)       2359808   \n",
      "                                                                 \n",
      " block5_conv2 (Conv2D)       (None, 14, 14, 512)       2359808   \n",
      "                                                                 \n",
      " block5_conv3 (Conv2D)       (None, 14, 14, 512)       2359808   \n",
      "                                                                 \n",
      " block5_pool (MaxPooling2D)  (None, 7, 7, 512)         0         \n",
      "                                                                 \n",
      "=================================================================\n",
      "Total params: 14,714,688\n",
      "Trainable params: 0\n",
      "Non-trainable params: 14,714,688\n",
      "_________________________________________________________________\n"
     ]
    }
   ],
   "source": [
    "SIZE=224\n",
    "VGG_model = VGG16(weights='imagenet', include_top=False, input_shape=(SIZE, SIZE, 3))\n",
    "\n",
    "#Make loaded layers as non-trainable. This is important as we want to work with pre-trained weights\n",
    "for layer in VGG_model.layers:\n",
    "\tlayer.trainable = False\n",
    "    \n",
    "VGG_model.summary()"
   ]
  },
  {
   "cell_type": "code",
   "execution_count": 126,
   "id": "04c7ada4",
   "metadata": {},
   "outputs": [
    {
     "data": {
      "text/plain": [
       "{'objective': 'binary:logistic',\n",
       " 'use_label_encoder': True,\n",
       " 'base_score': None,\n",
       " 'booster': None,\n",
       " 'colsample_bylevel': None,\n",
       " 'colsample_bynode': None,\n",
       " 'colsample_bytree': None,\n",
       " 'enable_categorical': False,\n",
       " 'gamma': None,\n",
       " 'gpu_id': None,\n",
       " 'importance_type': None,\n",
       " 'interaction_constraints': None,\n",
       " 'learning_rate': None,\n",
       " 'max_delta_step': None,\n",
       " 'max_depth': None,\n",
       " 'min_child_weight': None,\n",
       " 'missing': nan,\n",
       " 'monotone_constraints': None,\n",
       " 'n_estimators': 100,\n",
       " 'n_jobs': None,\n",
       " 'num_parallel_tree': None,\n",
       " 'predictor': None,\n",
       " 'random_state': None,\n",
       " 'reg_alpha': None,\n",
       " 'reg_lambda': None,\n",
       " 'scale_pos_weight': None,\n",
       " 'subsample': None,\n",
       " 'tree_method': None,\n",
       " 'validate_parameters': None,\n",
       " 'verbosity': None}"
      ]
     },
     "execution_count": 126,
     "metadata": {},
     "output_type": "execute_result"
    }
   ],
   "source": [
    "xgb.XGBClassifier().get_params()"
   ]
  },
  {
   "cell_type": "code",
   "execution_count": 127,
   "id": "3d512243",
   "metadata": {},
   "outputs": [],
   "source": [
    "feature_extractor=VGG_model.predict(x_train)\n",
    "\n",
    "features = feature_extractor.reshape(feature_extractor.shape[0], -1)\n",
    "\n",
    "X_for_training = features"
   ]
  },
  {
   "cell_type": "code",
   "execution_count": 128,
   "id": "9ff18108",
   "metadata": {},
   "outputs": [],
   "source": [
    "X_test_feature = VGG_model.predict(x_test)\n",
    "X_test_features = X_test_feature.reshape(X_test_feature.shape[0], -1)\n",
    "X_for_test = X_test_features"
   ]
  },
  {
   "cell_type": "code",
   "execution_count": null,
   "id": "a863566e",
   "metadata": {},
   "outputs": [],
   "source": [
    "model_xgboost = xgb.XGBClassifier(learning_rate=0.1,\n",
    "                                      max_depth=5,\n",
    "                                      n_estimators=5000,\n",
    "                                      subsample=0.5,\n",
    "                                      colsample_bytree=0.5,\n",
    "                                      eval_metric='auc',\n",
    "                                      verbosity=1)\n",
    "\n",
    "eval_set = [(X_test_features , y_test)]\n",
    "\n",
    "model_xgboost.fit(X_for_training,\n",
    "                  y_train,\n",
    "                  early_stopping_rounds=10,\n",
    "                  eval_set=eval_set,\n",
    "                  verbose=True)"
   ]
  },
  {
   "cell_type": "code",
   "execution_count": null,
   "id": "e8ceb58b",
   "metadata": {},
   "outputs": [],
   "source": [
    "import sklearn.metrics as metrics\n",
    "X_test_feature = VGG_model.predict(x_test)\n",
    "X_test_features = X_test_feature.reshape(X_test_feature.shape[0], -1)\n",
    "\n",
    "#Now predict using the trained RF model. \n",
    "prediction = model_xgboost.predict(X_test_features)\n",
    "#Inverse le transform to get original label back. \n",
    "prediction = le.inverse_transform(prediction)\n",
    "\n",
    "#Print overall accuracy\n",
    "#from sklearn import metrics\n",
    "print (\"Accuracy = \", metrics.accuracy_score(test_labels, prediction))"
   ]
  },
  {
   "cell_type": "code",
   "execution_count": null,
   "id": "61d6beea",
   "metadata": {},
   "outputs": [],
   "source": [
    "y_train_pred = model_xgboost.predict_proba(X_for_training)\n",
    "y_valid_pred = model_xgboost.predict_proba(X_test_features)\n",
    "\n",
    "print(\"AUC Train: {:.4f}\\nAUC Valid: {:.4f}\".format(roc_auc_score(y_train, y_train_pred,multi_class=\"ovr\"),\n",
    "                                                    roc_auc_score(y_test, y_valid_pred,multi_class=\"ovr\")))"
   ]
  },
  {
   "cell_type": "code",
   "execution_count": 529,
   "id": "5690fadb",
   "metadata": {},
   "outputs": [
    {
     "name": "stdout",
     "output_type": "stream",
     "text": [
      "{'fibroadenoma', 'tubular-adenoma', 'mucinous-carcinoma', 'lobular_carcinoma', 'papillary-carcinoma', 'phyllodes_tumor', 'Adenosis', 'ductal_carcinoma'}\n"
     ]
    }
   ],
   "source": [
    "x=set(le.inverse_transform(y_test))\n",
    "print(x)"
   ]
  },
  {
   "cell_type": "code",
   "execution_count": 530,
   "id": "7633971e",
   "metadata": {},
   "outputs": [
    {
     "name": "stdout",
     "output_type": "stream",
     "text": [
      "27\n"
     ]
    },
    {
     "data": {
      "text/plain": [
       "{'learning_rate': [0.05, 0.1, 0.01],\n",
       " 'max_depth': [3, 5, 30],\n",
       " 'n_estimators': [2000, 3000, 5000]}"
      ]
     },
     "execution_count": 530,
     "metadata": {},
     "output_type": "execute_result"
    }
   ],
   "source": [
    "learning_rate_list = [0.05, 0.1,0.01]\n",
    "max_depth_list = [3, 5,30]\n",
    "n_estimators_list = [2000, 3000,5000]\n",
    "\n",
    "params_dict = {\"learning_rate\": learning_rate_list,\n",
    "               \"max_depth\": max_depth_list,\n",
    "               \"n_estimators\": n_estimators_list}\n",
    "\n",
    "num_combinations = 1\n",
    "for v in params_dict.values(): num_combinations *= len(v) \n",
    "\n",
    "print(num_combinations)\n",
    "params_dict"
   ]
  },
  {
   "cell_type": "code",
   "execution_count": 531,
   "id": "ec20d321",
   "metadata": {},
   "outputs": [
    {
     "name": "stdout",
     "output_type": "stream",
     "text": [
      "Fitting 4 folds for each of 27 candidates, totalling 108 fits\n",
      "[CV 1/4] END learning_rate=0.05, max_depth=3, n_estimators=2000;, score=(train=0.983, test=0.983) total time= 4.4min\n",
      "[CV 2/4] END learning_rate=0.05, max_depth=3, n_estimators=2000;, score=(train=0.995, test=0.995) total time= 4.6min\n",
      "[CV 3/4] END learning_rate=0.05, max_depth=3, n_estimators=2000;, score=(train=0.990, test=0.990) total time= 4.7min\n",
      "[CV 4/4] END learning_rate=0.05, max_depth=3, n_estimators=2000;, score=(train=0.988, test=0.988) total time= 4.6min\n",
      "[CV 1/4] END learning_rate=0.05, max_depth=3, n_estimators=3000;, score=(train=0.983, test=0.983) total time= 6.6min\n",
      "[CV 2/4] END learning_rate=0.05, max_depth=3, n_estimators=3000;, score=(train=0.995, test=0.995) total time= 6.1min\n",
      "[CV 3/4] END learning_rate=0.05, max_depth=3, n_estimators=3000;, score=(train=0.990, test=0.990) total time= 6.2min\n",
      "[CV 4/4] END learning_rate=0.05, max_depth=3, n_estimators=3000;, score=(train=0.988, test=0.988) total time= 6.2min\n",
      "[CV 1/4] END learning_rate=0.05, max_depth=3, n_estimators=5000;, score=(train=0.983, test=0.983) total time= 9.4min\n",
      "[CV 2/4] END learning_rate=0.05, max_depth=3, n_estimators=5000;, score=(train=0.995, test=0.995) total time= 9.9min\n",
      "[CV 3/4] END learning_rate=0.05, max_depth=3, n_estimators=5000;, score=(train=0.990, test=0.990) total time= 9.4min\n",
      "[CV 4/4] END learning_rate=0.05, max_depth=3, n_estimators=5000;, score=(train=0.988, test=0.988) total time= 9.3min\n",
      "[CV 1/4] END learning_rate=0.05, max_depth=5, n_estimators=2000;, score=(train=0.984, test=0.984) total time= 4.8min\n",
      "[CV 2/4] END learning_rate=0.05, max_depth=5, n_estimators=2000;, score=(train=0.995, test=0.995) total time= 4.6min\n",
      "[CV 3/4] END learning_rate=0.05, max_depth=5, n_estimators=2000;, score=(train=0.990, test=0.990) total time= 4.8min\n",
      "[CV 4/4] END learning_rate=0.05, max_depth=5, n_estimators=2000;, score=(train=0.989, test=0.989) total time= 5.1min\n",
      "[CV 1/4] END learning_rate=0.05, max_depth=5, n_estimators=3000;, score=(train=0.984, test=0.984) total time= 6.5min\n",
      "[CV 2/4] END learning_rate=0.05, max_depth=5, n_estimators=3000;, score=(train=0.995, test=0.995) total time= 6.3min\n",
      "[CV 3/4] END learning_rate=0.05, max_depth=5, n_estimators=3000;, score=(train=0.990, test=0.990) total time= 6.1min\n",
      "[CV 4/4] END learning_rate=0.05, max_depth=5, n_estimators=3000;, score=(train=0.989, test=0.989) total time= 6.2min\n",
      "[CV 1/4] END learning_rate=0.05, max_depth=5, n_estimators=5000;, score=(train=0.984, test=0.984) total time= 9.1min\n",
      "[CV 2/4] END learning_rate=0.05, max_depth=5, n_estimators=5000;, score=(train=0.995, test=0.995) total time= 9.0min\n",
      "[CV 3/4] END learning_rate=0.05, max_depth=5, n_estimators=5000;, score=(train=0.990, test=0.990) total time= 8.8min\n",
      "[CV 4/4] END learning_rate=0.05, max_depth=5, n_estimators=5000;, score=(train=0.989, test=0.989) total time= 8.8min\n",
      "[CV 1/4] END learning_rate=0.05, max_depth=30, n_estimators=2000;, score=(train=0.984, test=0.984) total time= 4.5min\n",
      "[CV 2/4] END learning_rate=0.05, max_depth=30, n_estimators=2000;, score=(train=0.995, test=0.995) total time= 4.6min\n",
      "[CV 3/4] END learning_rate=0.05, max_depth=30, n_estimators=2000;, score=(train=0.990, test=0.990) total time= 4.5min\n",
      "[CV 4/4] END learning_rate=0.05, max_depth=30, n_estimators=2000;, score=(train=0.988, test=0.988) total time= 4.5min\n",
      "[CV 1/4] END learning_rate=0.05, max_depth=30, n_estimators=3000;, score=(train=0.984, test=0.984) total time= 6.0min\n",
      "[CV 2/4] END learning_rate=0.05, max_depth=30, n_estimators=3000;, score=(train=0.995, test=0.995) total time= 6.0min\n",
      "[CV 3/4] END learning_rate=0.05, max_depth=30, n_estimators=3000;, score=(train=0.990, test=0.990) total time= 5.9min\n",
      "[CV 4/4] END learning_rate=0.05, max_depth=30, n_estimators=3000;, score=(train=0.988, test=0.988) total time= 6.0min\n",
      "[CV 1/4] END learning_rate=0.05, max_depth=30, n_estimators=5000;, score=(train=0.984, test=0.984) total time= 8.8min\n",
      "[CV 2/4] END learning_rate=0.05, max_depth=30, n_estimators=5000;, score=(train=0.995, test=0.995) total time= 9.0min\n",
      "[CV 3/4] END learning_rate=0.05, max_depth=30, n_estimators=5000;, score=(train=0.990, test=0.990) total time= 8.8min\n",
      "[CV 4/4] END learning_rate=0.05, max_depth=30, n_estimators=5000;, score=(train=0.988, test=0.988) total time= 8.9min\n",
      "[CV 1/4] END learning_rate=0.1, max_depth=3, n_estimators=2000;, score=(train=0.984, test=0.984) total time= 3.6min\n",
      "[CV 2/4] END learning_rate=0.1, max_depth=3, n_estimators=2000;, score=(train=0.995, test=0.995) total time= 3.6min\n",
      "[CV 3/4] END learning_rate=0.1, max_depth=3, n_estimators=2000;, score=(train=0.989, test=0.989) total time= 3.6min\n",
      "[CV 4/4] END learning_rate=0.1, max_depth=3, n_estimators=2000;, score=(train=0.988, test=0.988) total time= 3.5min\n",
      "[CV 1/4] END learning_rate=0.1, max_depth=3, n_estimators=3000;, score=(train=0.984, test=0.984) total time= 5.0min\n",
      "[CV 2/4] END learning_rate=0.1, max_depth=3, n_estimators=3000;, score=(train=0.995, test=0.995) total time= 5.0min\n",
      "[CV 3/4] END learning_rate=0.1, max_depth=3, n_estimators=3000;, score=(train=0.989, test=0.989) total time= 5.0min\n",
      "[CV 4/4] END learning_rate=0.1, max_depth=3, n_estimators=3000;, score=(train=0.988, test=0.988) total time= 5.0min\n",
      "[CV 1/4] END learning_rate=0.1, max_depth=3, n_estimators=5000;, score=(train=0.984, test=0.984) total time= 7.9min\n",
      "[CV 2/4] END learning_rate=0.1, max_depth=3, n_estimators=5000;, score=(train=0.995, test=0.995) total time= 8.0min\n",
      "[CV 3/4] END learning_rate=0.1, max_depth=3, n_estimators=5000;, score=(train=0.989, test=0.989) total time= 8.0min\n",
      "[CV 4/4] END learning_rate=0.1, max_depth=3, n_estimators=5000;, score=(train=0.988, test=0.988) total time= 8.1min\n",
      "[CV 1/4] END learning_rate=0.1, max_depth=5, n_estimators=2000;, score=(train=0.984, test=0.984) total time= 3.7min\n",
      "[CV 2/4] END learning_rate=0.1, max_depth=5, n_estimators=2000;, score=(train=0.994, test=0.994) total time= 3.7min\n",
      "[CV 3/4] END learning_rate=0.1, max_depth=5, n_estimators=2000;, score=(train=0.989, test=0.989) total time= 3.7min\n",
      "[CV 4/4] END learning_rate=0.1, max_depth=5, n_estimators=2000;, score=(train=0.988, test=0.988) total time= 3.7min\n",
      "[CV 1/4] END learning_rate=0.1, max_depth=5, n_estimators=3000;, score=(train=0.984, test=0.984) total time= 5.2min\n",
      "[CV 2/4] END learning_rate=0.1, max_depth=5, n_estimators=3000;, score=(train=0.994, test=0.994) total time= 5.2min\n",
      "[CV 3/4] END learning_rate=0.1, max_depth=5, n_estimators=3000;, score=(train=0.989, test=0.989) total time= 5.1min\n",
      "[CV 4/4] END learning_rate=0.1, max_depth=5, n_estimators=3000;, score=(train=0.988, test=0.988) total time= 5.1min\n",
      "[CV 1/4] END learning_rate=0.1, max_depth=5, n_estimators=5000;, score=(train=0.984, test=0.984) total time= 8.0min\n",
      "[CV 2/4] END learning_rate=0.1, max_depth=5, n_estimators=5000;, score=(train=0.994, test=0.994) total time= 8.0min\n",
      "[CV 3/4] END learning_rate=0.1, max_depth=5, n_estimators=5000;, score=(train=0.989, test=0.989) total time= 8.0min\n",
      "[CV 4/4] END learning_rate=0.1, max_depth=5, n_estimators=5000;, score=(train=0.988, test=0.988) total time= 8.0min\n",
      "[CV 1/4] END learning_rate=0.1, max_depth=30, n_estimators=2000;, score=(train=0.985, test=0.985) total time= 3.7min\n",
      "[CV 2/4] END learning_rate=0.1, max_depth=30, n_estimators=2000;, score=(train=0.994, test=0.994) total time= 3.7min\n",
      "[CV 3/4] END learning_rate=0.1, max_depth=30, n_estimators=2000;, score=(train=0.989, test=0.989) total time= 3.7min\n",
      "[CV 4/4] END learning_rate=0.1, max_depth=30, n_estimators=2000;, score=(train=0.988, test=0.988) total time= 3.7min\n",
      "[CV 1/4] END learning_rate=0.1, max_depth=30, n_estimators=3000;, score=(train=0.985, test=0.985) total time= 5.1min\n",
      "[CV 2/4] END learning_rate=0.1, max_depth=30, n_estimators=3000;, score=(train=0.994, test=0.994) total time= 5.2min\n",
      "[CV 3/4] END learning_rate=0.1, max_depth=30, n_estimators=3000;, score=(train=0.989, test=0.989) total time= 5.2min\n",
      "[CV 4/4] END learning_rate=0.1, max_depth=30, n_estimators=3000;, score=(train=0.988, test=0.988) total time= 5.1min\n",
      "[CV 1/4] END learning_rate=0.1, max_depth=30, n_estimators=5000;, score=(train=0.985, test=0.985) total time= 8.0min\n",
      "[CV 2/4] END learning_rate=0.1, max_depth=30, n_estimators=5000;, score=(train=0.994, test=0.994) total time= 8.0min\n"
     ]
    },
    {
     "name": "stdout",
     "output_type": "stream",
     "text": [
      "[CV 3/4] END learning_rate=0.1, max_depth=30, n_estimators=5000;, score=(train=0.989, test=0.989) total time= 8.1min\n",
      "[CV 4/4] END learning_rate=0.1, max_depth=30, n_estimators=5000;, score=(train=0.988, test=0.988) total time= 8.6min\n",
      "[CV 1/4] END learning_rate=0.01, max_depth=3, n_estimators=2000;, score=(train=0.983, test=0.983) total time= 8.0min\n",
      "[CV 2/4] END learning_rate=0.01, max_depth=3, n_estimators=2000;, score=(train=0.995, test=0.995) total time= 8.3min\n",
      "[CV 3/4] END learning_rate=0.01, max_depth=3, n_estimators=2000;, score=(train=0.989, test=0.989) total time= 8.2min\n",
      "[CV 4/4] END learning_rate=0.01, max_depth=3, n_estimators=2000;, score=(train=0.988, test=0.988) total time= 8.0min\n",
      "[CV 1/4] END learning_rate=0.01, max_depth=3, n_estimators=3000;, score=(train=0.983, test=0.983) total time=10.3min\n",
      "[CV 2/4] END learning_rate=0.01, max_depth=3, n_estimators=3000;, score=(train=0.995, test=0.995) total time=10.8min\n",
      "[CV 3/4] END learning_rate=0.01, max_depth=3, n_estimators=3000;, score=(train=0.989, test=0.989) total time=10.7min\n",
      "[CV 4/4] END learning_rate=0.01, max_depth=3, n_estimators=3000;, score=(train=0.988, test=0.988) total time=10.5min\n",
      "[CV 1/4] END learning_rate=0.01, max_depth=3, n_estimators=5000;, score=(train=0.984, test=0.984) total time=13.8min\n",
      "[CV 2/4] END learning_rate=0.01, max_depth=3, n_estimators=5000;, score=(train=0.995, test=0.995) total time=14.2min\n",
      "[CV 3/4] END learning_rate=0.01, max_depth=3, n_estimators=5000;, score=(train=0.989, test=0.989) total time=13.8min\n",
      "[CV 4/4] END learning_rate=0.01, max_depth=3, n_estimators=5000;, score=(train=0.988, test=0.988) total time=13.8min\n",
      "[CV 1/4] END learning_rate=0.01, max_depth=5, n_estimators=2000;, score=(train=0.984, test=0.984) total time= 9.2min\n",
      "[CV 2/4] END learning_rate=0.01, max_depth=5, n_estimators=2000;, score=(train=0.995, test=0.995) total time= 9.7min\n",
      "[CV 3/4] END learning_rate=0.01, max_depth=5, n_estimators=2000;, score=(train=0.989, test=0.989) total time= 9.4min\n",
      "[CV 4/4] END learning_rate=0.01, max_depth=5, n_estimators=2000;, score=(train=0.988, test=0.988) total time= 9.3min\n",
      "[CV 1/4] END learning_rate=0.01, max_depth=5, n_estimators=3000;, score=(train=0.984, test=0.984) total time=11.6min\n",
      "[CV 2/4] END learning_rate=0.01, max_depth=5, n_estimators=3000;, score=(train=0.995, test=0.995) total time=12.0min\n",
      "[CV 3/4] END learning_rate=0.01, max_depth=5, n_estimators=3000;, score=(train=0.989, test=0.989) total time=11.5min\n",
      "[CV 4/4] END learning_rate=0.01, max_depth=5, n_estimators=3000;, score=(train=0.989, test=0.989) total time=11.4min\n",
      "[CV 1/4] END learning_rate=0.01, max_depth=5, n_estimators=5000;, score=(train=0.984, test=0.984) total time=14.8min\n",
      "[CV 2/4] END learning_rate=0.01, max_depth=5, n_estimators=5000;, score=(train=0.995, test=0.995) total time=15.3min\n",
      "[CV 3/4] END learning_rate=0.01, max_depth=5, n_estimators=5000;, score=(train=0.989, test=0.989) total time=14.7min\n",
      "[CV 4/4] END learning_rate=0.01, max_depth=5, n_estimators=5000;, score=(train=0.989, test=0.989) total time=16.4min\n",
      "[CV 1/4] END learning_rate=0.01, max_depth=30, n_estimators=2000;, score=(train=0.984, test=0.984) total time=10.4min\n",
      "[CV 2/4] END learning_rate=0.01, max_depth=30, n_estimators=2000;, score=(train=0.995, test=0.995) total time=10.9min\n",
      "[CV 3/4] END learning_rate=0.01, max_depth=30, n_estimators=2000;, score=(train=0.989, test=0.989) total time=10.4min\n",
      "[CV 4/4] END learning_rate=0.01, max_depth=30, n_estimators=2000;, score=(train=0.988, test=0.988) total time=10.4min\n",
      "[CV 1/4] END learning_rate=0.01, max_depth=30, n_estimators=3000;, score=(train=0.984, test=0.984) total time=12.9min\n",
      "[CV 2/4] END learning_rate=0.01, max_depth=30, n_estimators=3000;, score=(train=0.995, test=0.995) total time=13.4min\n",
      "[CV 3/4] END learning_rate=0.01, max_depth=30, n_estimators=3000;, score=(train=0.989, test=0.989) total time=12.8min\n",
      "[CV 4/4] END learning_rate=0.01, max_depth=30, n_estimators=3000;, score=(train=0.988, test=0.988) total time=12.7min\n",
      "[CV 1/4] END learning_rate=0.01, max_depth=30, n_estimators=5000;, score=(train=0.984, test=0.984) total time=16.6min\n",
      "[CV 2/4] END learning_rate=0.01, max_depth=30, n_estimators=5000;, score=(train=0.995, test=0.995) total time=16.9min\n",
      "[CV 3/4] END learning_rate=0.01, max_depth=30, n_estimators=5000;, score=(train=0.989, test=0.989) total time=16.4min\n",
      "[CV 4/4] END learning_rate=0.01, max_depth=30, n_estimators=5000;, score=(train=0.989, test=0.989) total time=17.4min\n"
     ]
    },
    {
     "data": {
      "text/plain": [
       "GridSearchCV(cv=4,\n",
       "             estimator=XGBClassifier(base_score=None, booster=None,\n",
       "                                     colsample_bylevel=None,\n",
       "                                     colsample_bynode=None,\n",
       "                                     colsample_bytree=0.25,\n",
       "                                     enable_categorical=False,\n",
       "                                     eval_metric='auc', gamma=None, gpu_id=None,\n",
       "                                     importance_type=None,\n",
       "                                     interaction_constraints=None,\n",
       "                                     learning_rate=None, max_delta_step=None,\n",
       "                                     max_depth=None, min_child_weight=None,\n",
       "                                     missing=nan, monotone...\n",
       "                                     random_state=None, reg_alpha=None,\n",
       "                                     reg_lambda=None, scale_pos_weight=None,\n",
       "                                     subsample=0.5, tree_method=None,\n",
       "                                     use_label_encoder=False,\n",
       "                                     validate_parameters=None, verbosity=None),\n",
       "             param_grid={'learning_rate': [0.05, 0.1, 0.01],\n",
       "                         'max_depth': [3, 5, 30],\n",
       "                         'n_estimators': [2000, 3000, 5000]},\n",
       "             return_train_score=True,\n",
       "             scoring=<function my_roc_auc_score at 0x0000021E041A0040>,\n",
       "             verbose=4)"
      ]
     },
     "execution_count": 531,
     "metadata": {},
     "output_type": "execute_result"
    }
   ],
   "source": [
    "def my_roc_auc_score(model, X, y): return roc_auc_score(y_train, model.predict_proba(X_for_training),multi_class=\"ovr\")\n",
    "\n",
    "model_xgboost_hp = GridSearchCV(estimator=xgb.XGBClassifier(subsample=0.5,\n",
    "                                                                colsample_bytree=0.25,\n",
    "                                                                eval_metric='auc',\n",
    "                                                                use_label_encoder=False),\n",
    "                                param_grid=params_dict,\n",
    "                                cv=4,\n",
    "                                scoring=my_roc_auc_score,\n",
    "                                return_train_score=True,\n",
    "                                verbose=4)\n",
    "\n",
    "model_xgboost_hp.fit(X_for_training, y_train)"
   ]
  },
  {
   "cell_type": "code",
   "execution_count": 532,
   "id": "83513a21",
   "metadata": {},
   "outputs": [
    {
     "data": {
      "text/html": [
       "<div>\n",
       "<style scoped>\n",
       "    .dataframe tbody tr th:only-of-type {\n",
       "        vertical-align: middle;\n",
       "    }\n",
       "\n",
       "    .dataframe tbody tr th {\n",
       "        vertical-align: top;\n",
       "    }\n",
       "\n",
       "    .dataframe thead th {\n",
       "        text-align: right;\n",
       "    }\n",
       "</style>\n",
       "<table border=\"1\" class=\"dataframe\">\n",
       "  <thead>\n",
       "    <tr style=\"text-align: right;\">\n",
       "      <th></th>\n",
       "      <th>rank_test_score</th>\n",
       "      <th>mean_test_score</th>\n",
       "      <th>mean_train_score</th>\n",
       "      <th>param_learning_rate</th>\n",
       "      <th>param_max_depth</th>\n",
       "      <th>param_n_estimators</th>\n",
       "    </tr>\n",
       "  </thead>\n",
       "  <tbody>\n",
       "    <tr>\n",
       "      <th>23</th>\n",
       "      <td>1</td>\n",
       "      <td>0.989307</td>\n",
       "      <td>0.989307</td>\n",
       "      <td>0.01</td>\n",
       "      <td>5</td>\n",
       "      <td>5000</td>\n",
       "    </tr>\n",
       "    <tr>\n",
       "      <th>22</th>\n",
       "      <td>2</td>\n",
       "      <td>0.989234</td>\n",
       "      <td>0.989234</td>\n",
       "      <td>0.01</td>\n",
       "      <td>5</td>\n",
       "      <td>3000</td>\n",
       "    </tr>\n",
       "    <tr>\n",
       "      <th>7</th>\n",
       "      <td>3</td>\n",
       "      <td>0.989223</td>\n",
       "      <td>0.989223</td>\n",
       "      <td>0.05</td>\n",
       "      <td>30</td>\n",
       "      <td>3000</td>\n",
       "    </tr>\n",
       "    <tr>\n",
       "      <th>8</th>\n",
       "      <td>4</td>\n",
       "      <td>0.989220</td>\n",
       "      <td>0.989220</td>\n",
       "      <td>0.05</td>\n",
       "      <td>30</td>\n",
       "      <td>5000</td>\n",
       "    </tr>\n",
       "    <tr>\n",
       "      <th>26</th>\n",
       "      <td>5</td>\n",
       "      <td>0.989218</td>\n",
       "      <td>0.989218</td>\n",
       "      <td>0.01</td>\n",
       "      <td>30</td>\n",
       "      <td>5000</td>\n",
       "    </tr>\n",
       "    <tr>\n",
       "      <th>6</th>\n",
       "      <td>6</td>\n",
       "      <td>0.989217</td>\n",
       "      <td>0.989217</td>\n",
       "      <td>0.05</td>\n",
       "      <td>30</td>\n",
       "      <td>2000</td>\n",
       "    </tr>\n",
       "    <tr>\n",
       "      <th>5</th>\n",
       "      <td>7</td>\n",
       "      <td>0.989136</td>\n",
       "      <td>0.989136</td>\n",
       "      <td>0.05</td>\n",
       "      <td>5</td>\n",
       "      <td>5000</td>\n",
       "    </tr>\n",
       "    <tr>\n",
       "      <th>3</th>\n",
       "      <td>8</td>\n",
       "      <td>0.989135</td>\n",
       "      <td>0.989135</td>\n",
       "      <td>0.05</td>\n",
       "      <td>5</td>\n",
       "      <td>2000</td>\n",
       "    </tr>\n",
       "    <tr>\n",
       "      <th>25</th>\n",
       "      <td>9</td>\n",
       "      <td>0.989130</td>\n",
       "      <td>0.989130</td>\n",
       "      <td>0.01</td>\n",
       "      <td>30</td>\n",
       "      <td>3000</td>\n",
       "    </tr>\n",
       "    <tr>\n",
       "      <th>4</th>\n",
       "      <td>10</td>\n",
       "      <td>0.989129</td>\n",
       "      <td>0.989129</td>\n",
       "      <td>0.05</td>\n",
       "      <td>5</td>\n",
       "      <td>3000</td>\n",
       "    </tr>\n",
       "    <tr>\n",
       "      <th>21</th>\n",
       "      <td>11</td>\n",
       "      <td>0.989122</td>\n",
       "      <td>0.989122</td>\n",
       "      <td>0.01</td>\n",
       "      <td>5</td>\n",
       "      <td>2000</td>\n",
       "    </tr>\n",
       "    <tr>\n",
       "      <th>24</th>\n",
       "      <td>12</td>\n",
       "      <td>0.989040</td>\n",
       "      <td>0.989040</td>\n",
       "      <td>0.01</td>\n",
       "      <td>30</td>\n",
       "      <td>2000</td>\n",
       "    </tr>\n",
       "    <tr>\n",
       "      <th>17</th>\n",
       "      <td>13</td>\n",
       "      <td>0.989029</td>\n",
       "      <td>0.989029</td>\n",
       "      <td>0.1</td>\n",
       "      <td>30</td>\n",
       "      <td>5000</td>\n",
       "    </tr>\n",
       "    <tr>\n",
       "      <th>16</th>\n",
       "      <td>14</td>\n",
       "      <td>0.989025</td>\n",
       "      <td>0.989025</td>\n",
       "      <td>0.1</td>\n",
       "      <td>30</td>\n",
       "      <td>3000</td>\n",
       "    </tr>\n",
       "    <tr>\n",
       "      <th>2</th>\n",
       "      <td>15</td>\n",
       "      <td>0.989007</td>\n",
       "      <td>0.989007</td>\n",
       "      <td>0.05</td>\n",
       "      <td>3</td>\n",
       "      <td>5000</td>\n",
       "    </tr>\n",
       "    <tr>\n",
       "      <th>15</th>\n",
       "      <td>15</td>\n",
       "      <td>0.989007</td>\n",
       "      <td>0.989007</td>\n",
       "      <td>0.1</td>\n",
       "      <td>30</td>\n",
       "      <td>2000</td>\n",
       "    </tr>\n",
       "    <tr>\n",
       "      <th>1</th>\n",
       "      <td>17</td>\n",
       "      <td>0.988998</td>\n",
       "      <td>0.988998</td>\n",
       "      <td>0.05</td>\n",
       "      <td>3</td>\n",
       "      <td>3000</td>\n",
       "    </tr>\n",
       "    <tr>\n",
       "      <th>20</th>\n",
       "      <td>18</td>\n",
       "      <td>0.988995</td>\n",
       "      <td>0.988995</td>\n",
       "      <td>0.01</td>\n",
       "      <td>3</td>\n",
       "      <td>5000</td>\n",
       "    </tr>\n",
       "    <tr>\n",
       "      <th>0</th>\n",
       "      <td>19</td>\n",
       "      <td>0.988990</td>\n",
       "      <td>0.988990</td>\n",
       "      <td>0.05</td>\n",
       "      <td>3</td>\n",
       "      <td>2000</td>\n",
       "    </tr>\n",
       "    <tr>\n",
       "      <th>14</th>\n",
       "      <td>20</td>\n",
       "      <td>0.988976</td>\n",
       "      <td>0.988976</td>\n",
       "      <td>0.1</td>\n",
       "      <td>5</td>\n",
       "      <td>5000</td>\n",
       "    </tr>\n",
       "    <tr>\n",
       "      <th>12</th>\n",
       "      <td>21</td>\n",
       "      <td>0.988946</td>\n",
       "      <td>0.988946</td>\n",
       "      <td>0.1</td>\n",
       "      <td>5</td>\n",
       "      <td>2000</td>\n",
       "    </tr>\n",
       "    <tr>\n",
       "      <th>13</th>\n",
       "      <td>22</td>\n",
       "      <td>0.988927</td>\n",
       "      <td>0.988927</td>\n",
       "      <td>0.1</td>\n",
       "      <td>5</td>\n",
       "      <td>3000</td>\n",
       "    </tr>\n",
       "    <tr>\n",
       "      <th>11</th>\n",
       "      <td>23</td>\n",
       "      <td>0.988916</td>\n",
       "      <td>0.988916</td>\n",
       "      <td>0.1</td>\n",
       "      <td>3</td>\n",
       "      <td>5000</td>\n",
       "    </tr>\n",
       "    <tr>\n",
       "      <th>10</th>\n",
       "      <td>24</td>\n",
       "      <td>0.988885</td>\n",
       "      <td>0.988885</td>\n",
       "      <td>0.1</td>\n",
       "      <td>3</td>\n",
       "      <td>3000</td>\n",
       "    </tr>\n",
       "    <tr>\n",
       "      <th>9</th>\n",
       "      <td>25</td>\n",
       "      <td>0.988883</td>\n",
       "      <td>0.988883</td>\n",
       "      <td>0.1</td>\n",
       "      <td>3</td>\n",
       "      <td>2000</td>\n",
       "    </tr>\n",
       "    <tr>\n",
       "      <th>19</th>\n",
       "      <td>26</td>\n",
       "      <td>0.988879</td>\n",
       "      <td>0.988879</td>\n",
       "      <td>0.01</td>\n",
       "      <td>3</td>\n",
       "      <td>3000</td>\n",
       "    </tr>\n",
       "    <tr>\n",
       "      <th>18</th>\n",
       "      <td>27</td>\n",
       "      <td>0.988772</td>\n",
       "      <td>0.988772</td>\n",
       "      <td>0.01</td>\n",
       "      <td>3</td>\n",
       "      <td>2000</td>\n",
       "    </tr>\n",
       "  </tbody>\n",
       "</table>\n",
       "</div>"
      ],
      "text/plain": [
       "    rank_test_score  mean_test_score  mean_train_score param_learning_rate  \\\n",
       "23                1         0.989307          0.989307                0.01   \n",
       "22                2         0.989234          0.989234                0.01   \n",
       "7                 3         0.989223          0.989223                0.05   \n",
       "8                 4         0.989220          0.989220                0.05   \n",
       "26                5         0.989218          0.989218                0.01   \n",
       "6                 6         0.989217          0.989217                0.05   \n",
       "5                 7         0.989136          0.989136                0.05   \n",
       "3                 8         0.989135          0.989135                0.05   \n",
       "25                9         0.989130          0.989130                0.01   \n",
       "4                10         0.989129          0.989129                0.05   \n",
       "21               11         0.989122          0.989122                0.01   \n",
       "24               12         0.989040          0.989040                0.01   \n",
       "17               13         0.989029          0.989029                 0.1   \n",
       "16               14         0.989025          0.989025                 0.1   \n",
       "2                15         0.989007          0.989007                0.05   \n",
       "15               15         0.989007          0.989007                 0.1   \n",
       "1                17         0.988998          0.988998                0.05   \n",
       "20               18         0.988995          0.988995                0.01   \n",
       "0                19         0.988990          0.988990                0.05   \n",
       "14               20         0.988976          0.988976                 0.1   \n",
       "12               21         0.988946          0.988946                 0.1   \n",
       "13               22         0.988927          0.988927                 0.1   \n",
       "11               23         0.988916          0.988916                 0.1   \n",
       "10               24         0.988885          0.988885                 0.1   \n",
       "9                25         0.988883          0.988883                 0.1   \n",
       "19               26         0.988879          0.988879                0.01   \n",
       "18               27         0.988772          0.988772                0.01   \n",
       "\n",
       "   param_max_depth param_n_estimators  \n",
       "23               5               5000  \n",
       "22               5               3000  \n",
       "7               30               3000  \n",
       "8               30               5000  \n",
       "26              30               5000  \n",
       "6               30               2000  \n",
       "5                5               5000  \n",
       "3                5               2000  \n",
       "25              30               3000  \n",
       "4                5               3000  \n",
       "21               5               2000  \n",
       "24              30               2000  \n",
       "17              30               5000  \n",
       "16              30               3000  \n",
       "2                3               5000  \n",
       "15              30               2000  \n",
       "1                3               3000  \n",
       "20               3               5000  \n",
       "0                3               2000  \n",
       "14               5               5000  \n",
       "12               5               2000  \n",
       "13               5               3000  \n",
       "11               3               5000  \n",
       "10               3               3000  \n",
       "9                3               2000  \n",
       "19               3               3000  \n",
       "18               3               2000  "
      ]
     },
     "execution_count": 532,
     "metadata": {},
     "output_type": "execute_result"
    }
   ],
   "source": [
    "df_cv_results = pd.DataFrame(model_xgboost_hp.cv_results_)\n",
    "df_cv_results = df_cv_results[['rank_test_score','mean_test_score','mean_train_score',\n",
    "                               'param_learning_rate', 'param_max_depth', 'param_n_estimators']]\n",
    "df_cv_results.sort_values(by='rank_test_score', inplace=True)\n",
    "df_cv_results"
   ]
  },
  {
   "cell_type": "code",
   "execution_count": 533,
   "id": "a27cb656",
   "metadata": {},
   "outputs": [
    {
     "data": {
      "text/plain": [
       "Text(0.5, 1.0, 'Performance wrt # of Trees and Depth')"
      ]
     },
     "execution_count": 533,
     "metadata": {},
     "output_type": "execute_result"
    },
    {
     "data": {
      "image/png": "[encoded data removed]",
      "text/plain": [
       "<Figure size 720x360 with 1 Axes>"
      ]
     },
     "metadata": {
      "needs_background": "light"
     },
     "output_type": "display_data"
    }
   ],
   "source": [
    "# First sort by number of estimators as that would be x-axis\n",
    "df_cv_results.sort_values(by='param_n_estimators', inplace=True)\n",
    "\n",
    "# Find values of AUC for learning rate of 0.05 and different values of depth\n",
    "#lr_d2 = df_cv_results.loc[(df_cv_results['param_learning_rate']==0.01) & (df_cv_results['param_max_depth']==2),:]\n",
    "lr_d3 = df_cv_results.loc[(df_cv_results['param_learning_rate']==0.01) & (df_cv_results['param_max_depth']==3),:]\n",
    "lr_d5 = df_cv_results.loc[(df_cv_results['param_learning_rate']==0.01) & (df_cv_results['param_max_depth']==5),:]\n",
    "lr_d7 = df_cv_results.loc[(df_cv_results['param_learning_rate']==0.01) & (df_cv_results['param_max_depth']==30),:]\n",
    "\n",
    "# Let us plot now\n",
    "fig, ax = plt.subplots(figsize=(10,5))\n",
    "#lr_d2.plot(x='param_n_estimators', y='mean_test_score', label='Depth=2', ax=ax)\n",
    "lr_d3.plot(x='param_n_estimators', y='mean_test_score', label='Depth=3', ax=ax)\n",
    "lr_d5.plot(x='param_n_estimators', y='mean_test_score', label='Depth=5', ax=ax)\n",
    "lr_d7.plot(x='param_n_estimators', y='mean_test_score', label='Depth=30', ax=ax)\n",
    "plt.ylabel('Mean Validation AUC')\n",
    "plt.title('Performance wrt # of Trees and Depth')"
   ]
  },
  {
   "cell_type": "code",
   "execution_count": 534,
   "id": "de3ea266",
   "metadata": {},
   "outputs": [
    {
     "data": {
      "text/plain": [
       "Text(0.5, 1.0, 'Performance wrt learning rate')"
      ]
     },
     "execution_count": 534,
     "metadata": {},
     "output_type": "execute_result"
    },
    {
     "data": {
      "image/png": "[encoded data removed]",
      "text/plain": [
       "<Figure size 720x360 with 1 Axes>"
      ]
     },
     "metadata": {
      "needs_background": "light"
     },
     "output_type": "display_data"
    }
   ],
   "source": [
    "# First sort by learning rate as that would be x-axis\n",
    "df_cv_results.sort_values(by='param_learning_rate', inplace=True)\n",
    "\n",
    "# Find values of AUC for learning rate of 0.05 and different values of depth\n",
    "lr_t3k_d2 = df_cv_results.loc[(df_cv_results['param_n_estimators']==5000) & (df_cv_results['param_max_depth']==5),:]\n",
    "\n",
    "# Let us plot now\n",
    "fig, ax = plt.subplots(figsize=(10,5))\n",
    "lr_t3k_d2.plot(x='param_learning_rate', y='mean_test_score', label='Depth=5, Trees=5000', ax=ax)\n",
    "plt.ylabel('Mean Validation AUC')\n",
    "plt.title('Performance wrt learning rate')"
   ]
  },
  {
   "cell_type": "code",
   "execution_count": 129,
   "id": "04de3993",
   "metadata": {},
   "outputs": [
    {
     "name": "stdout",
     "output_type": "stream",
     "text": [
      "[0]\tvalidation_0-auc:0.93710\tvalidation_1-auc:0.78592\n",
      "[1]\tvalidation_0-auc:0.97438\tvalidation_1-auc:0.84191\n",
      "[2]\tvalidation_0-auc:0.98631\tvalidation_1-auc:0.87833\n",
      "[3]\tvalidation_0-auc:0.99156\tvalidation_1-auc:0.88420\n",
      "[4]\tvalidation_0-auc:0.99420\tvalidation_1-auc:0.89694\n",
      "[5]\tvalidation_0-auc:0.99537\tvalidation_1-auc:0.90777\n",
      "[6]\tvalidation_0-auc:0.99625\tvalidation_1-auc:0.91736\n",
      "[7]\tvalidation_0-auc:0.99737\tvalidation_1-auc:0.92197\n",
      "[8]\tvalidation_0-auc:0.99781\tvalidation_1-auc:0.92384\n",
      "[9]\tvalidation_0-auc:0.99804\tvalidation_1-auc:0.92309\n",
      "[10]\tvalidation_0-auc:0.99848\tvalidation_1-auc:0.92493\n",
      "[11]\tvalidation_0-auc:0.99874\tvalidation_1-auc:0.92895\n",
      "[12]\tvalidation_0-auc:0.99890\tvalidation_1-auc:0.93044\n",
      "[13]\tvalidation_0-auc:0.99902\tvalidation_1-auc:0.93126\n",
      "[14]\tvalidation_0-auc:0.99905\tvalidation_1-auc:0.93202\n",
      "[15]\tvalidation_0-auc:0.99920\tvalidation_1-auc:0.93310\n",
      "[16]\tvalidation_0-auc:0.99925\tvalidation_1-auc:0.93394\n",
      "[17]\tvalidation_0-auc:0.99933\tvalidation_1-auc:0.93639\n",
      "[18]\tvalidation_0-auc:0.99944\tvalidation_1-auc:0.93935\n",
      "[19]\tvalidation_0-auc:0.99942\tvalidation_1-auc:0.93906\n",
      "[20]\tvalidation_0-auc:0.99946\tvalidation_1-auc:0.94163\n",
      "[21]\tvalidation_0-auc:0.99955\tvalidation_1-auc:0.94400\n",
      "[22]\tvalidation_0-auc:0.99963\tvalidation_1-auc:0.94458\n",
      "[23]\tvalidation_0-auc:0.99965\tvalidation_1-auc:0.94484\n",
      "[24]\tvalidation_0-auc:0.99968\tvalidation_1-auc:0.94490\n",
      "[25]\tvalidation_0-auc:0.99969\tvalidation_1-auc:0.94577\n",
      "[26]\tvalidation_0-auc:0.99969\tvalidation_1-auc:0.94568\n",
      "[27]\tvalidation_0-auc:0.99970\tvalidation_1-auc:0.94651\n",
      "[28]\tvalidation_0-auc:0.99971\tvalidation_1-auc:0.94721\n",
      "[29]\tvalidation_0-auc:0.99971\tvalidation_1-auc:0.94786\n",
      "[30]\tvalidation_0-auc:0.99974\tvalidation_1-auc:0.94812\n",
      "[31]\tvalidation_0-auc:0.99977\tvalidation_1-auc:0.94815\n",
      "[32]\tvalidation_0-auc:0.99981\tvalidation_1-auc:0.94771\n",
      "[33]\tvalidation_0-auc:0.99982\tvalidation_1-auc:0.94816\n",
      "[34]\tvalidation_0-auc:0.99984\tvalidation_1-auc:0.94826\n",
      "[35]\tvalidation_0-auc:0.99984\tvalidation_1-auc:0.94893\n",
      "[36]\tvalidation_0-auc:0.99987\tvalidation_1-auc:0.94895\n",
      "[37]\tvalidation_0-auc:0.99986\tvalidation_1-auc:0.94897\n",
      "[38]\tvalidation_0-auc:0.99988\tvalidation_1-auc:0.95056\n",
      "[39]\tvalidation_0-auc:0.99989\tvalidation_1-auc:0.95096\n",
      "[40]\tvalidation_0-auc:0.99991\tvalidation_1-auc:0.95135\n",
      "[41]\tvalidation_0-auc:0.99990\tvalidation_1-auc:0.95135\n",
      "[42]\tvalidation_0-auc:0.99990\tvalidation_1-auc:0.95183\n",
      "[43]\tvalidation_0-auc:0.99990\tvalidation_1-auc:0.95217\n",
      "[44]\tvalidation_0-auc:0.99990\tvalidation_1-auc:0.95335\n",
      "[45]\tvalidation_0-auc:0.99989\tvalidation_1-auc:0.95279\n",
      "[46]\tvalidation_0-auc:0.99990\tvalidation_1-auc:0.95270\n",
      "[47]\tvalidation_0-auc:0.99991\tvalidation_1-auc:0.95241\n",
      "[48]\tvalidation_0-auc:0.99992\tvalidation_1-auc:0.95217\n",
      "[49]\tvalidation_0-auc:0.99993\tvalidation_1-auc:0.95292\n",
      "[50]\tvalidation_0-auc:0.99993\tvalidation_1-auc:0.95289\n",
      "[51]\tvalidation_0-auc:0.99994\tvalidation_1-auc:0.95346\n",
      "[52]\tvalidation_0-auc:0.99993\tvalidation_1-auc:0.95397\n",
      "[53]\tvalidation_0-auc:0.99994\tvalidation_1-auc:0.95388\n",
      "[54]\tvalidation_0-auc:0.99995\tvalidation_1-auc:0.95396\n",
      "[55]\tvalidation_0-auc:0.99995\tvalidation_1-auc:0.95385\n",
      "[56]\tvalidation_0-auc:0.99995\tvalidation_1-auc:0.95425\n",
      "[57]\tvalidation_0-auc:0.99994\tvalidation_1-auc:0.95455\n",
      "[58]\tvalidation_0-auc:0.99994\tvalidation_1-auc:0.95490\n",
      "[59]\tvalidation_0-auc:0.99994\tvalidation_1-auc:0.95548\n",
      "[60]\tvalidation_0-auc:0.99995\tvalidation_1-auc:0.95535\n",
      "[61]\tvalidation_0-auc:0.99995\tvalidation_1-auc:0.95526\n",
      "[62]\tvalidation_0-auc:0.99995\tvalidation_1-auc:0.95541\n",
      "[63]\tvalidation_0-auc:0.99995\tvalidation_1-auc:0.95527\n",
      "[64]\tvalidation_0-auc:0.99995\tvalidation_1-auc:0.95528\n",
      "[65]\tvalidation_0-auc:0.99995\tvalidation_1-auc:0.95552\n",
      "[66]\tvalidation_0-auc:0.99995\tvalidation_1-auc:0.95566\n",
      "[67]\tvalidation_0-auc:0.99996\tvalidation_1-auc:0.95612\n",
      "[68]\tvalidation_0-auc:0.99997\tvalidation_1-auc:0.95636\n",
      "[69]\tvalidation_0-auc:0.99997\tvalidation_1-auc:0.95671\n",
      "[70]\tvalidation_0-auc:0.99997\tvalidation_1-auc:0.95649\n",
      "[71]\tvalidation_0-auc:0.99997\tvalidation_1-auc:0.95673\n",
      "[72]\tvalidation_0-auc:0.99997\tvalidation_1-auc:0.95698\n",
      "[73]\tvalidation_0-auc:0.99997\tvalidation_1-auc:0.95713\n",
      "[74]\tvalidation_0-auc:0.99997\tvalidation_1-auc:0.95762\n",
      "[75]\tvalidation_0-auc:0.99997\tvalidation_1-auc:0.95758\n",
      "[76]\tvalidation_0-auc:0.99998\tvalidation_1-auc:0.95719\n",
      "[77]\tvalidation_0-auc:0.99998\tvalidation_1-auc:0.95695\n",
      "[78]\tvalidation_0-auc:0.99998\tvalidation_1-auc:0.95692\n",
      "[79]\tvalidation_0-auc:0.99998\tvalidation_1-auc:0.95703\n",
      "[80]\tvalidation_0-auc:0.99998\tvalidation_1-auc:0.95679\n",
      "[81]\tvalidation_0-auc:0.99999\tvalidation_1-auc:0.95688\n",
      "[82]\tvalidation_0-auc:0.99999\tvalidation_1-auc:0.95715\n",
      "[83]\tvalidation_0-auc:0.99999\tvalidation_1-auc:0.95713\n"
     ]
    },
    {
     "data": {
      "text/plain": [
       "XGBClassifier(base_score=0.5, booster='gbtree', colsample_bylevel=1,\n",
       "              colsample_bynode=1, colsample_bytree=0.25,\n",
       "              enable_categorical=False, eval_metric='auc', gamma=0, gpu_id=-1,\n",
       "              importance_type=None, interaction_constraints='',\n",
       "              learning_rate=0.01, max_delta_step=0, max_depth=5,\n",
       "              min_child_weight=1, missing=nan, monotone_constraints='()',\n",
       "              n_estimators=5000, n_jobs=8, num_parallel_tree=1,\n",
       "              objective='multi:softprob', predictor='auto', random_state=0,\n",
       "              reg_alpha=0, reg_lambda=1, scale_pos_weight=None, subsample=0.5,\n",
       "              tree_method='exact', use_label_encoder=False,\n",
       "              validate_parameters=1, ...)"
      ]
     },
     "execution_count": 129,
     "metadata": {},
     "output_type": "execute_result"
    }
   ],
   "source": [
    "\n",
    "model_xgboost_fin = xgb.XGBClassifier(learning_rate=0.01,\n",
    "                                          max_depth=5,\n",
    "                                          n_estimators=5000,\n",
    "                                          subsample=0.5,\n",
    "                                          colsample_bytree=0.25,\n",
    "                                          eval_metric='auc',\n",
    "                                          verbosity=1,\n",
    "                                          use_label_encoder=False)\n",
    "\n",
    "# Passing both training and validation dataset as we want to plot AUC for both\n",
    "eval_set = [(X_for_training, y_train),(X_test_features, y_test)]\n",
    "\n",
    "model_xgboost_fin.fit(X_for_training,\n",
    "                  y_train,\n",
    "                  early_stopping_rounds=10,\n",
    "                  eval_set=eval_set,\n",
    "                  verbose=True)"
   ]
  },
  {
   "cell_type": "code",
   "execution_count": 130,
   "id": "fe46d084",
   "metadata": {},
   "outputs": [
    {
     "data": {
      "image/png": "[encoded data removed]",
      "text/plain": [
       "<Figure size 1080x360 with 1 Axes>"
      ]
     },
     "metadata": {
      "needs_background": "light"
     },
     "output_type": "display_data"
    }
   ],
   "source": [
    "evaluation_results = model_xgboost_fin.evals_result()\n",
    "\n",
    "# Index into each key to find AUC values for training and validation data after each tree\n",
    "train_auc_tree = evaluation_results['validation_0']['auc']\n",
    "valid_auc_tree = evaluation_results['validation_1']['auc']\n",
    "\n",
    "\n",
    "# Plotting Section\n",
    "plt.figure(figsize=(15,5))\n",
    "\n",
    "plt.plot(train_auc_tree, label='Train')\n",
    "plt.plot(valid_auc_tree, label='valid')\n",
    "\n",
    "plt.title(\"Train and validation AUC as number of trees increase\")\n",
    "plt.xlabel(\"Trees\")\n",
    "plt.ylabel(\"AUC\")\n",
    "plt.legend(loc='lower right')\n",
    "plt.show()"
   ]
  },
  {
   "cell_type": "code",
   "execution_count": 131,
   "id": "cf4ab98d",
   "metadata": {},
   "outputs": [
    {
     "name": "stdout",
     "output_type": "stream",
     "text": [
      "AUC Train: 1.0000\n",
      "AUC Valid: 0.9576\n"
     ]
    }
   ],
   "source": [
    "y_train_pred = model_xgboost_fin.predict_proba(X_for_training)\n",
    "y_valid_pred = model_xgboost_fin.predict_proba(X_test_features)\n",
    "\n",
    "print(\"AUC Train: {:.4f}\\nAUC Valid: {:.4f}\".format(roc_auc_score(y_train, y_train_pred,multi_class=\"ovr\"),\n",
    "                                                    roc_auc_score(y_test, y_valid_pred,multi_class=\"ovr\")))"
   ]
  },
  {
   "cell_type": "code",
   "execution_count": 132,
   "id": "6e1a473a",
   "metadata": {},
   "outputs": [],
   "source": [
    "X_test_feature = VGG_model.predict(x_test)\n",
    "X_test_features = X_test_feature.reshape(X_test_feature.shape[0], -1)"
   ]
  },
  {
   "cell_type": "code",
   "execution_count": 133,
   "id": "dcec6492",
   "metadata": {},
   "outputs": [
    {
     "name": "stdout",
     "output_type": "stream",
     "text": [
      "Accuracy: 80.00%\n",
      "[0, 0, 0, 0, 0, 0, 0, 0, 0, 0, 0, 0, 0, 0, 0, 0, 0, 0, 0, 0, 0, 0, 0, 0, 0, 0, 0, 0, 0, 0, 0, 4, 3, 3, 4, 6, 0, 3, 7, 0, 1, 1, 1, 1, 1, 7, 1, 1, 3, 2, 3, 6, 6, 3, 3, 3, 1, 1, 1, 1, 1, 1, 1, 1, 1, 1, 1, 1, 1, 1, 1, 1, 1, 1, 1, 1, 1, 1, 1, 1, 2, 2, 2, 2, 2, 2, 2, 2, 2, 2, 2, 2, 2, 2, 7, 2, 2, 2, 2, 4, 2, 7, 7, 7, 7, 7, 2, 2, 2, 2, 2, 2, 2, 2, 2, 2, 2, 2, 2, 2, 3, 1, 1, 1, 3, 6, 1, 5, 3, 3, 3, 3, 3, 3, 4, 3, 3, 1, 3, 3, 3, 3, 3, 3, 3, 3, 3, 3, 3, 3, 3, 3, 3, 3, 3, 3, 4, 4, 3, 3, 4, 1, 3, 2, 2, 4, 4, 7, 4, 7, 4, 4, 4, 4, 4, 4, 4, 4, 4, 4, 4, 4, 4, 4, 4, 4, 4, 4, 4, 4, 4, 4, 4, 4, 4, 4, 1, 4, 0, 1, 5, 5, 5, 5, 5, 5, 5, 5, 5, 5, 5, 5, 5, 5, 5, 5, 0, 4, 7, 7, 4, 4, 2, 4, 5, 5, 5, 5, 5, 5, 5, 5, 5, 5, 5, 5, 5, 5, 5, 5, 4, 2, 4, 0, 0, 6, 3, 3, 0, 0, 6, 6, 6, 6, 6, 6, 6, 6, 6, 6, 6, 6, 6, 6, 6, 6, 6, 6, 6, 6, 6, 6, 6, 6, 6, 6, 6, 6, 6, 6, 7, 7, 7, 7, 7, 7, 7, 7, 7, 7, 7, 7, 7, 7, 7, 7, 7, 6, 7, 1, 1, 1, 7, 7, 7, 7, 7, 7, 7, 7, 7, 7, 7, 7, 7, 7, 7, 1, 7, 7]\n"
     ]
    }
   ],
   "source": [
    "y_pred = model_xgboost_fin.predict(X_test_features)\n",
    "predictions = [round(value) for value in y_pred]\n",
    "# evaluate predictions\n",
    "accuracy = accuracy_score(y_test, predictions)\n",
    "print(\"Accuracy: %.2f%%\" % (accuracy * 100.0))\n",
    "print(predictions)\n",
    "prediction_0 = le.inverse_transform(predictions)\n"
   ]
  },
  {
   "cell_type": "code",
   "execution_count": 134,
   "id": "ccf8e7af",
   "metadata": {},
   "outputs": [
    {
     "name": "stdout",
     "output_type": "stream",
     "text": [
      "['Adenosis' 'Adenosis' 'Adenosis' 'Adenosis' 'Adenosis' 'Adenosis'\n",
      " 'Adenosis' 'Adenosis' 'Adenosis' 'Adenosis' 'Adenosis' 'Adenosis'\n",
      " 'Adenosis' 'Adenosis' 'Adenosis' 'Adenosis' 'Adenosis' 'Adenosis'\n",
      " 'Adenosis' 'Adenosis' 'Adenosis' 'Adenosis' 'Adenosis' 'Adenosis'\n",
      " 'Adenosis' 'Adenosis' 'Adenosis' 'Adenosis' 'Adenosis' 'Adenosis'\n",
      " 'Adenosis' 'Adenosis' 'Adenosis' 'Adenosis' 'Adenosis' 'Adenosis'\n",
      " 'Adenosis' 'Adenosis' 'Adenosis' 'Adenosis' 'ductal_carcinoma'\n",
      " 'ductal_carcinoma' 'ductal_carcinoma' 'ductal_carcinoma'\n",
      " 'ductal_carcinoma' 'ductal_carcinoma' 'ductal_carcinoma'\n",
      " 'ductal_carcinoma' 'ductal_carcinoma' 'ductal_carcinoma'\n",
      " 'ductal_carcinoma' 'ductal_carcinoma' 'ductal_carcinoma'\n",
      " 'ductal_carcinoma' 'ductal_carcinoma' 'ductal_carcinoma'\n",
      " 'ductal_carcinoma' 'ductal_carcinoma' 'ductal_carcinoma'\n",
      " 'ductal_carcinoma' 'ductal_carcinoma' 'ductal_carcinoma'\n",
      " 'ductal_carcinoma' 'ductal_carcinoma' 'ductal_carcinoma'\n",
      " 'ductal_carcinoma' 'ductal_carcinoma' 'ductal_carcinoma'\n",
      " 'ductal_carcinoma' 'ductal_carcinoma' 'ductal_carcinoma'\n",
      " 'ductal_carcinoma' 'ductal_carcinoma' 'ductal_carcinoma'\n",
      " 'ductal_carcinoma' 'ductal_carcinoma' 'ductal_carcinoma'\n",
      " 'ductal_carcinoma' 'ductal_carcinoma' 'ductal_carcinoma' 'fibroadenoma'\n",
      " 'fibroadenoma' 'fibroadenoma' 'fibroadenoma' 'fibroadenoma'\n",
      " 'fibroadenoma' 'fibroadenoma' 'fibroadenoma' 'fibroadenoma'\n",
      " 'fibroadenoma' 'fibroadenoma' 'fibroadenoma' 'fibroadenoma'\n",
      " 'fibroadenoma' 'fibroadenoma' 'fibroadenoma' 'fibroadenoma'\n",
      " 'fibroadenoma' 'fibroadenoma' 'fibroadenoma' 'fibroadenoma'\n",
      " 'fibroadenoma' 'fibroadenoma' 'fibroadenoma' 'fibroadenoma'\n",
      " 'fibroadenoma' 'fibroadenoma' 'fibroadenoma' 'fibroadenoma'\n",
      " 'fibroadenoma' 'fibroadenoma' 'fibroadenoma' 'fibroadenoma'\n",
      " 'fibroadenoma' 'fibroadenoma' 'fibroadenoma' 'fibroadenoma'\n",
      " 'fibroadenoma' 'fibroadenoma' 'fibroadenoma' 'lobular_carcinoma'\n",
      " 'lobular_carcinoma' 'lobular_carcinoma' 'lobular_carcinoma'\n",
      " 'lobular_carcinoma' 'lobular_carcinoma' 'lobular_carcinoma'\n",
      " 'lobular_carcinoma' 'lobular_carcinoma' 'lobular_carcinoma'\n",
      " 'lobular_carcinoma' 'lobular_carcinoma' 'lobular_carcinoma'\n",
      " 'lobular_carcinoma' 'lobular_carcinoma' 'lobular_carcinoma'\n",
      " 'lobular_carcinoma' 'lobular_carcinoma' 'lobular_carcinoma'\n",
      " 'lobular_carcinoma' 'lobular_carcinoma' 'lobular_carcinoma'\n",
      " 'lobular_carcinoma' 'lobular_carcinoma' 'lobular_carcinoma'\n",
      " 'lobular_carcinoma' 'lobular_carcinoma' 'lobular_carcinoma'\n",
      " 'lobular_carcinoma' 'lobular_carcinoma' 'lobular_carcinoma'\n",
      " 'lobular_carcinoma' 'lobular_carcinoma' 'lobular_carcinoma'\n",
      " 'lobular_carcinoma' 'lobular_carcinoma' 'lobular_carcinoma'\n",
      " 'lobular_carcinoma' 'lobular_carcinoma' 'lobular_carcinoma'\n",
      " 'mucinous-carcinoma' 'mucinous-carcinoma' 'mucinous-carcinoma'\n",
      " 'mucinous-carcinoma' 'mucinous-carcinoma' 'mucinous-carcinoma'\n",
      " 'mucinous-carcinoma' 'mucinous-carcinoma' 'mucinous-carcinoma'\n",
      " 'mucinous-carcinoma' 'mucinous-carcinoma' 'mucinous-carcinoma'\n",
      " 'mucinous-carcinoma' 'mucinous-carcinoma' 'mucinous-carcinoma'\n",
      " 'mucinous-carcinoma' 'mucinous-carcinoma' 'mucinous-carcinoma'\n",
      " 'mucinous-carcinoma' 'mucinous-carcinoma' 'mucinous-carcinoma'\n",
      " 'mucinous-carcinoma' 'mucinous-carcinoma' 'mucinous-carcinoma'\n",
      " 'mucinous-carcinoma' 'mucinous-carcinoma' 'mucinous-carcinoma'\n",
      " 'mucinous-carcinoma' 'mucinous-carcinoma' 'mucinous-carcinoma'\n",
      " 'mucinous-carcinoma' 'mucinous-carcinoma' 'mucinous-carcinoma'\n",
      " 'mucinous-carcinoma' 'mucinous-carcinoma' 'mucinous-carcinoma'\n",
      " 'mucinous-carcinoma' 'mucinous-carcinoma' 'mucinous-carcinoma'\n",
      " 'mucinous-carcinoma' 'papillary_carcinoma' 'papillary_carcinoma'\n",
      " 'papillary_carcinoma' 'papillary_carcinoma' 'papillary_carcinoma'\n",
      " 'papillary_carcinoma' 'papillary_carcinoma' 'papillary_carcinoma'\n",
      " 'papillary_carcinoma' 'papillary_carcinoma' 'papillary_carcinoma'\n",
      " 'papillary_carcinoma' 'papillary_carcinoma' 'papillary_carcinoma'\n",
      " 'papillary_carcinoma' 'papillary_carcinoma' 'papillary_carcinoma'\n",
      " 'papillary_carcinoma' 'papillary_carcinoma' 'papillary_carcinoma'\n",
      " 'papillary_carcinoma' 'papillary_carcinoma' 'papillary_carcinoma'\n",
      " 'papillary_carcinoma' 'papillary_carcinoma' 'papillary_carcinoma'\n",
      " 'papillary_carcinoma' 'papillary_carcinoma' 'papillary_carcinoma'\n",
      " 'papillary_carcinoma' 'papillary_carcinoma' 'papillary_carcinoma'\n",
      " 'papillary_carcinoma' 'papillary_carcinoma' 'papillary_carcinoma'\n",
      " 'papillary_carcinoma' 'papillary_carcinoma' 'papillary_carcinoma'\n",
      " 'papillary_carcinoma' 'papillary_carcinoma' 'phyllodes_tumor'\n",
      " 'phyllodes_tumor' 'phyllodes_tumor' 'phyllodes_tumor' 'phyllodes_tumor'\n",
      " 'phyllodes_tumor' 'phyllodes_tumor' 'phyllodes_tumor' 'phyllodes_tumor'\n",
      " 'phyllodes_tumor' 'phyllodes_tumor' 'phyllodes_tumor' 'phyllodes_tumor'\n",
      " 'phyllodes_tumor' 'phyllodes_tumor' 'phyllodes_tumor' 'phyllodes_tumor'\n",
      " 'phyllodes_tumor' 'phyllodes_tumor' 'phyllodes_tumor' 'phyllodes_tumor'\n",
      " 'phyllodes_tumor' 'phyllodes_tumor' 'phyllodes_tumor' 'phyllodes_tumor'\n",
      " 'phyllodes_tumor' 'phyllodes_tumor' 'phyllodes_tumor' 'phyllodes_tumor'\n",
      " 'phyllodes_tumor' 'phyllodes_tumor' 'phyllodes_tumor' 'phyllodes_tumor'\n",
      " 'phyllodes_tumor' 'phyllodes_tumor' 'phyllodes_tumor' 'phyllodes_tumor'\n",
      " 'phyllodes_tumor' 'phyllodes_tumor' 'phyllodes_tumor' 'tubular_adenoma'\n",
      " 'tubular_adenoma' 'tubular_adenoma' 'tubular_adenoma' 'tubular_adenoma'\n",
      " 'tubular_adenoma' 'tubular_adenoma' 'tubular_adenoma' 'tubular_adenoma'\n",
      " 'tubular_adenoma' 'tubular_adenoma' 'tubular_adenoma' 'tubular_adenoma'\n",
      " 'tubular_adenoma' 'tubular_adenoma' 'tubular_adenoma' 'tubular_adenoma'\n",
      " 'tubular_adenoma' 'tubular_adenoma' 'tubular_adenoma' 'tubular_adenoma'\n",
      " 'tubular_adenoma' 'tubular_adenoma' 'tubular_adenoma' 'tubular_adenoma'\n",
      " 'tubular_adenoma' 'tubular_adenoma' 'tubular_adenoma' 'tubular_adenoma'\n",
      " 'tubular_adenoma' 'tubular_adenoma' 'tubular_adenoma' 'tubular_adenoma'\n",
      " 'tubular_adenoma' 'tubular_adenoma' 'tubular_adenoma' 'tubular_adenoma'\n",
      " 'tubular_adenoma' 'tubular_adenoma' 'tubular_adenoma']\n",
      "['Adenosis' 'Adenosis' 'Adenosis' 'Adenosis' 'Adenosis' 'Adenosis'\n",
      " 'Adenosis' 'Adenosis' 'Adenosis' 'Adenosis' 'Adenosis' 'Adenosis'\n",
      " 'Adenosis' 'Adenosis' 'Adenosis' 'Adenosis' 'Adenosis' 'Adenosis'\n",
      " 'Adenosis' 'Adenosis' 'Adenosis' 'Adenosis' 'Adenosis' 'Adenosis'\n",
      " 'Adenosis' 'Adenosis' 'Adenosis' 'Adenosis' 'Adenosis' 'Adenosis'\n",
      " 'Adenosis' 'mucinous_carcinoma' 'lobular_carcinoma' 'lobular_carcinoma'\n",
      " 'mucinous_carcinoma' 'phyllodes_tumor' 'Adenosis' 'lobular_carcinoma'\n",
      " 'tubular_adenoma' 'Adenosis' 'ductal_carcinoma' 'ductal_carcinoma'\n",
      " 'ductal_carcinoma' 'ductal_carcinoma' 'ductal_carcinoma'\n",
      " 'tubular_adenoma' 'ductal_carcinoma' 'ductal_carcinoma'\n",
      " 'lobular_carcinoma' 'fibroadenoma' 'lobular_carcinoma' 'phyllodes_tumor'\n",
      " 'phyllodes_tumor' 'lobular_carcinoma' 'lobular_carcinoma'\n",
      " 'lobular_carcinoma' 'ductal_carcinoma' 'ductal_carcinoma'\n",
      " 'ductal_carcinoma' 'ductal_carcinoma' 'ductal_carcinoma'\n",
      " 'ductal_carcinoma' 'ductal_carcinoma' 'ductal_carcinoma'\n",
      " 'ductal_carcinoma' 'ductal_carcinoma' 'ductal_carcinoma'\n",
      " 'ductal_carcinoma' 'ductal_carcinoma' 'ductal_carcinoma'\n",
      " 'ductal_carcinoma' 'ductal_carcinoma' 'ductal_carcinoma'\n",
      " 'ductal_carcinoma' 'ductal_carcinoma' 'ductal_carcinoma'\n",
      " 'ductal_carcinoma' 'ductal_carcinoma' 'ductal_carcinoma'\n",
      " 'ductal_carcinoma' 'fibroadenoma' 'fibroadenoma' 'fibroadenoma'\n",
      " 'fibroadenoma' 'fibroadenoma' 'fibroadenoma' 'fibroadenoma'\n",
      " 'fibroadenoma' 'fibroadenoma' 'fibroadenoma' 'fibroadenoma'\n",
      " 'fibroadenoma' 'fibroadenoma' 'fibroadenoma' 'tubular_adenoma'\n",
      " 'fibroadenoma' 'fibroadenoma' 'fibroadenoma' 'fibroadenoma'\n",
      " 'mucinous_carcinoma' 'fibroadenoma' 'tubular_adenoma' 'tubular_adenoma'\n",
      " 'tubular_adenoma' 'tubular_adenoma' 'tubular_adenoma' 'fibroadenoma'\n",
      " 'fibroadenoma' 'fibroadenoma' 'fibroadenoma' 'fibroadenoma'\n",
      " 'fibroadenoma' 'fibroadenoma' 'fibroadenoma' 'fibroadenoma'\n",
      " 'fibroadenoma' 'fibroadenoma' 'fibroadenoma' 'fibroadenoma'\n",
      " 'fibroadenoma' 'lobular_carcinoma' 'ductal_carcinoma' 'ductal_carcinoma'\n",
      " 'ductal_carcinoma' 'lobular_carcinoma' 'phyllodes_tumor'\n",
      " 'ductal_carcinoma' 'papillary_carcinoma' 'lobular_carcinoma'\n",
      " 'lobular_carcinoma' 'lobular_carcinoma' 'lobular_carcinoma'\n",
      " 'lobular_carcinoma' 'lobular_carcinoma' 'mucinous_carcinoma'\n",
      " 'lobular_carcinoma' 'lobular_carcinoma' 'ductal_carcinoma'\n",
      " 'lobular_carcinoma' 'lobular_carcinoma' 'lobular_carcinoma'\n",
      " 'lobular_carcinoma' 'lobular_carcinoma' 'lobular_carcinoma'\n",
      " 'lobular_carcinoma' 'lobular_carcinoma' 'lobular_carcinoma'\n",
      " 'lobular_carcinoma' 'lobular_carcinoma' 'lobular_carcinoma'\n",
      " 'lobular_carcinoma' 'lobular_carcinoma' 'lobular_carcinoma'\n",
      " 'lobular_carcinoma' 'lobular_carcinoma' 'lobular_carcinoma'\n",
      " 'mucinous_carcinoma' 'mucinous_carcinoma' 'lobular_carcinoma'\n",
      " 'lobular_carcinoma' 'mucinous_carcinoma' 'ductal_carcinoma'\n",
      " 'lobular_carcinoma' 'fibroadenoma' 'fibroadenoma' 'mucinous_carcinoma'\n",
      " 'mucinous_carcinoma' 'tubular_adenoma' 'mucinous_carcinoma'\n",
      " 'tubular_adenoma' 'mucinous_carcinoma' 'mucinous_carcinoma'\n",
      " 'mucinous_carcinoma' 'mucinous_carcinoma' 'mucinous_carcinoma'\n",
      " 'mucinous_carcinoma' 'mucinous_carcinoma' 'mucinous_carcinoma'\n",
      " 'mucinous_carcinoma' 'mucinous_carcinoma' 'mucinous_carcinoma'\n",
      " 'mucinous_carcinoma' 'mucinous_carcinoma' 'mucinous_carcinoma'\n",
      " 'mucinous_carcinoma' 'mucinous_carcinoma' 'mucinous_carcinoma'\n",
      " 'mucinous_carcinoma' 'mucinous_carcinoma' 'mucinous_carcinoma'\n",
      " 'mucinous_carcinoma' 'mucinous_carcinoma' 'mucinous_carcinoma'\n",
      " 'mucinous_carcinoma' 'mucinous_carcinoma' 'mucinous_carcinoma'\n",
      " 'ductal_carcinoma' 'mucinous_carcinoma' 'Adenosis' 'ductal_carcinoma'\n",
      " 'papillary_carcinoma' 'papillary_carcinoma' 'papillary_carcinoma'\n",
      " 'papillary_carcinoma' 'papillary_carcinoma' 'papillary_carcinoma'\n",
      " 'papillary_carcinoma' 'papillary_carcinoma' 'papillary_carcinoma'\n",
      " 'papillary_carcinoma' 'papillary_carcinoma' 'papillary_carcinoma'\n",
      " 'papillary_carcinoma' 'papillary_carcinoma' 'papillary_carcinoma'\n",
      " 'papillary_carcinoma' 'Adenosis' 'mucinous_carcinoma' 'tubular_adenoma'\n",
      " 'tubular_adenoma' 'mucinous_carcinoma' 'mucinous_carcinoma'\n",
      " 'fibroadenoma' 'mucinous_carcinoma' 'papillary_carcinoma'\n",
      " 'papillary_carcinoma' 'papillary_carcinoma' 'papillary_carcinoma'\n",
      " 'papillary_carcinoma' 'papillary_carcinoma' 'papillary_carcinoma'\n",
      " 'papillary_carcinoma' 'papillary_carcinoma' 'papillary_carcinoma'\n",
      " 'papillary_carcinoma' 'papillary_carcinoma' 'papillary_carcinoma'\n",
      " 'papillary_carcinoma' 'papillary_carcinoma' 'papillary_carcinoma'\n",
      " 'mucinous_carcinoma' 'fibroadenoma' 'mucinous_carcinoma' 'Adenosis'\n",
      " 'Adenosis' 'phyllodes_tumor' 'lobular_carcinoma' 'lobular_carcinoma'\n",
      " 'Adenosis' 'Adenosis' 'phyllodes_tumor' 'phyllodes_tumor'\n",
      " 'phyllodes_tumor' 'phyllodes_tumor' 'phyllodes_tumor' 'phyllodes_tumor'\n",
      " 'phyllodes_tumor' 'phyllodes_tumor' 'phyllodes_tumor' 'phyllodes_tumor'\n",
      " 'phyllodes_tumor' 'phyllodes_tumor' 'phyllodes_tumor' 'phyllodes_tumor'\n",
      " 'phyllodes_tumor' 'phyllodes_tumor' 'phyllodes_tumor' 'phyllodes_tumor'\n",
      " 'phyllodes_tumor' 'phyllodes_tumor' 'phyllodes_tumor' 'phyllodes_tumor'\n",
      " 'phyllodes_tumor' 'phyllodes_tumor' 'phyllodes_tumor' 'phyllodes_tumor'\n",
      " 'phyllodes_tumor' 'phyllodes_tumor' 'phyllodes_tumor' 'phyllodes_tumor'\n",
      " 'tubular_adenoma' 'tubular_adenoma' 'tubular_adenoma' 'tubular_adenoma'\n",
      " 'tubular_adenoma' 'tubular_adenoma' 'tubular_adenoma' 'tubular_adenoma'\n",
      " 'tubular_adenoma' 'tubular_adenoma' 'tubular_adenoma' 'tubular_adenoma'\n",
      " 'tubular_adenoma' 'tubular_adenoma' 'tubular_adenoma' 'tubular_adenoma'\n",
      " 'tubular_adenoma' 'phyllodes_tumor' 'tubular_adenoma' 'ductal_carcinoma'\n",
      " 'ductal_carcinoma' 'ductal_carcinoma' 'tubular_adenoma' 'tubular_adenoma'\n",
      " 'tubular_adenoma' 'tubular_adenoma' 'tubular_adenoma' 'tubular_adenoma'\n",
      " 'tubular_adenoma' 'tubular_adenoma' 'tubular_adenoma' 'tubular_adenoma'\n",
      " 'tubular_adenoma' 'tubular_adenoma' 'tubular_adenoma' 'tubular_adenoma'\n",
      " 'tubular_adenoma' 'ductal_carcinoma' 'tubular_adenoma' 'tubular_adenoma']\n",
      "[[33  0  0  3  0  2  0  1  1]\n",
      " [ 0 31  1  5  0  0  0  2  1]\n",
      " [ 0  0 33  0  0  1  0  0  6]\n",
      " [ 0  5  0 30  0  3  1  1  0]\n",
      " [ 1  3  2  1  0 31  0  0  2]\n",
      " [ 0  0  0  0  0  0  0  0  0]\n",
      " [ 1  0  1  0  0  4 32  0  2]\n",
      " [ 4  0  1  2  0  2  0 31  0]\n",
      " [ 0  4  0  0  0  0  0  1 35]]\n"
     ]
    }
   ],
   "source": [
    "from sklearn.metrics import confusion_matrix\n",
    "cm_grid = confusion_matrix(test_labels, prediction_0)\n",
    "\n",
    "print(test_labels)\n",
    "print(prediction_0)\n",
    "print(cm_grid)\n"
   ]
  },
  {
   "cell_type": "code",
   "execution_count": 89,
   "id": "93273c4b",
   "metadata": {},
   "outputs": [
    {
     "data": {
      "text/plain": [
       "[Text(0, 0.5, 'A'),\n",
       " Text(0, 1.5, 'DC'),\n",
       " Text(0, 2.5, 'FB'),\n",
       " Text(0, 3.5, 'LC'),\n",
       " Text(0, 4.5, 'MC'),\n",
       " Text(0, 5.5, 'PC'),\n",
       " Text(0, 6.5, 'PT'),\n",
       " Text(0, 7.5, 'TA')]"
      ]
     },
     "execution_count": 89,
     "metadata": {},
     "output_type": "execute_result"
    },
    {
     "data": {
      "image/png": "[encoded data removed]",
      "text/plain": [
       "<Figure size 432x288 with 2 Axes>"
      ]
     },
     "metadata": {
      "needs_background": "light"
     },
     "output_type": "display_data"
    }
   ],
   "source": [
    "ax=sns.heatmap(cm_grid, annot=True)\n",
    "ax.set_title('Seaborn Confusion Matrix with labels_M_F_40 Using Data Augmentation\\n\\n');\n",
    "ax.set_xlabel('\\nPredicted Breast cancer  Category')\n",
    "ax.set_ylabel('Actual Breast cancer Category ')\n",
    "ax.xaxis.set_ticklabels(['A','DC','FB','LC','MC','PC','PT','TA'])\n",
    "ax.yaxis.set_ticklabels(['A','DC','FB','LC','MC','PC','PT','TA'])"
   ]
  },
  {
   "cell_type": "code",
   "execution_count": 31,
   "id": "922725af",
   "metadata": {},
   "outputs": [
    {
     "name": "stdout",
     "output_type": "stream",
     "text": [
      "The prediction for this image is:  ['ductal_carcinoma']\n",
      "The actual label for this image is:  ductal_carcinoma\n"
     ]
    },
    {
     "data": {
      "image/png": "[encoded data removed]",
      "text/plain": [
       "<Figure size 432x288 with 1 Axes>"
      ]
     },
     "metadata": {
      "needs_background": "light"
     },
     "output_type": "display_data"
    }
   ],
   "source": [
    "#Check results on a few select images\n",
    "n=np.random.randint(0, x_test.shape[0])\n",
    "img = x_test[n]\n",
    "plt.imshow(img)\n",
    "input_img = np.expand_dims(img, axis=0) #Expand dims so the input is (num images, x, y, c)\n",
    "input_img_feature=VGG_model.predict(input_img)\n",
    "input_img_features=input_img_feature.reshape(input_img_feature.shape[0], -1)\n",
    "prediction = model_xgboost_fin.predict(input_img_features)[0] \n",
    "prediction = le.inverse_transform([prediction])  #Reverse the label encoder to original name\n",
    "print(\"The prediction for this image is: \", prediction)\n",
    "print(\"The actual label for this image is: \", test_labels[n])"
   ]
  },
  {
   "cell_type": "code",
   "execution_count": 32,
   "id": "bdff339a",
   "metadata": {},
   "outputs": [
    {
     "name": "stdout",
     "output_type": "stream",
     "text": [
      "   TP  FN  FP   TN\n",
      "0  37   3   2  278\n",
      "1  31   9   4  276\n",
      "2  33   7   2  276\n",
      "3  40   0   5  278\n",
      "4  38   2   8  275\n",
      "5  32   8   1  272\n",
      "6  40   0   3  277\n",
      "7  35   5   9  271\n"
     ]
    }
   ],
   "source": [
    "\n",
    "Tp_0=cm_grid[0,0]\n",
    "Tp_1=cm_grid[1,1]\n",
    "Tp_2=cm_grid[2,2]\n",
    "Tp_3=cm_grid[3,3]\n",
    "Tp_4=cm_grid[4,4]\n",
    "Tp_5=cm_grid[5,5]\n",
    "Tp_6=cm_grid[6,6]\n",
    "Tp_7=cm_grid[7,7]\n",
    "\n",
    "FN_0=cm_grid[0,1]+cm_grid[0,2]+cm_grid[0,3]+cm_grid[0,4]+cm_grid[0,5]+cm_grid[0,6]+cm_grid[0,7]\n",
    "FN_1=cm_grid[1,0]+cm_grid[1,2]+cm_grid[1,3]+cm_grid[1,4]+cm_grid[1,5]+cm_grid[1,6]+cm_grid[1,7]\n",
    "FN_2=cm_grid[2,0]+cm_grid[2,1]+cm_grid[2,3]+cm_grid[2,4]+cm_grid[2,5]+cm_grid[2,6]+cm_grid[2,7]\n",
    "FN_3=cm_grid[3,0]+cm_grid[3,1]+cm_grid[3,2]+cm_grid[3,4]+cm_grid[3,5]+cm_grid[3,6]+cm_grid[3,7]\n",
    "FN_4=cm_grid[4,0]+cm_grid[4,1]+cm_grid[4,2]+cm_grid[4,3]+cm_grid[4,5]+cm_grid[4,6]+cm_grid[4,7]\n",
    "FN_5=cm_grid[5,0]+cm_grid[5,1]+cm_grid[5,2]+cm_grid[5,3]+cm_grid[5,4]+cm_grid[5,6]+cm_grid[5,7]\n",
    "FN_6=cm_grid[6,0]+cm_grid[6,1]+cm_grid[6,2]+cm_grid[6,3]+cm_grid[6,4]+cm_grid[6,5]+cm_grid[6,7]\n",
    "FN_7=cm_grid[7,0]+cm_grid[7,1]+cm_grid[7,2]+cm_grid[7,3]+cm_grid[7,4]+cm_grid[7,5]+cm_grid[7,6]\n",
    "\n",
    "\n",
    "\n",
    "Fp_0=cm_grid[1,0]+cm_grid[2,0]+cm_grid[3,0]+cm_grid[4,0]+cm_grid[5,0]+cm_grid[6,0]+cm_grid[7,0]\n",
    "Fp_1=cm_grid[0,1]+cm_grid[2,1]+cm_grid[3,1]+cm_grid[4,1]+cm_grid[5,1]+cm_grid[6,1]+cm_grid[7,1]\n",
    "Fp_2=cm_grid[0,2]+cm_grid[1,2]+cm_grid[3,2]+cm_grid[4,2]+cm_grid[5,2]+cm_grid[6,2]+cm_grid[7,2]\n",
    "Fp_3=cm_grid[0,3]+cm_grid[1,3]+cm_grid[2,3]+cm_grid[4,3]+cm_grid[5,3]+cm_grid[6,3]+cm_grid[7,3]\n",
    "Fp_4=cm_grid[0,4]+cm_grid[1,4]+cm_grid[2,4]+cm_grid[3,4]+cm_grid[5,4]+cm_grid[6,4]+cm_grid[7,4]\n",
    "Fp_5=cm_grid[0,5]+cm_grid[1,5]+cm_grid[2,5]+cm_grid[3,5]+cm_grid[4,5]+cm_grid[6,5]+cm_grid[7,5]\n",
    "Fp_6=cm_grid[0,6]+cm_grid[1,6]+cm_grid[2,6]+cm_grid[3,6]+cm_grid[4,6]+cm_grid[5,6]+cm_grid[7,6]\n",
    "Fp_7=cm_grid[0,7]+cm_grid[1,7]+cm_grid[2,7]+cm_grid[3,7]+cm_grid[4,7]+cm_grid[5,7]+cm_grid[6,7]\n",
    "\n",
    "l=[]\n",
    "for i in range(len(cm_grid)):\n",
    "    for j in range(len(cm_grid)):\n",
    "        l.append(cm_grid[i,j])\n",
    "        \n",
    "    \n",
    "Tn_0=sum(l)-Tp_0-FN_0-Fp_0\n",
    "Tn_1=sum(l)-Tp_1-FN_1-Fp_1\n",
    "Tn_2=sum(l)-Tp_2-FN_2-Fp_2\n",
    "Tn_3=sum(l)-Tp_3-FN_3-Fp_3\n",
    "Tn_4=sum(l)-Tp_4-FN_4-Fp_4\n",
    "Tn_5=sum(l)-Tp_5-FN_5-Fp_5\n",
    "Tn_6=sum(l)-Tp_6-FN_6-Fp_6\n",
    "Tn_7=sum(l)-Tp_7-FN_7-Fp_7\n",
    "\n",
    "TP=[Tp_0,Tp_1,Tp_2,Tp_3,Tp_4,Tp_5,Tp_6,Tp_7]\n",
    "FN=[FN_0,FN_1,FN_2,FN_3,FN_4,FN_5,FN_6,FN_7]\n",
    "FP=[Fp_0,Fp_1,Fp_2,Fp_3,Fp_4,Fp_5,Fp_6,Fp_7]\n",
    "TN=[Tn_0,Tn_1,Tn_1,Tn_2,Tn_3,Tn_4,Tn_6,Tn_7]\n",
    "\n",
    "df=pd.DataFrame(index=np.arange(0,8),columns=['TP','FN','FP','TN'])\n",
    "df['TP']=TP\n",
    "df['FN']=FN\n",
    "df['FP']=FP\n",
    "df['TN']=TN\n",
    "print(df)\n",
    "\n",
    "\n"
   ]
  },
  {
   "cell_type": "code",
   "execution_count": 33,
   "id": "bcfded08",
   "metadata": {},
   "outputs": [
    {
     "data": {
      "text/html": [
       "<div>\n",
       "<style scoped>\n",
       "    .dataframe tbody tr th:only-of-type {\n",
       "        vertical-align: middle;\n",
       "    }\n",
       "\n",
       "    .dataframe tbody tr th {\n",
       "        vertical-align: top;\n",
       "    }\n",
       "\n",
       "    .dataframe thead th {\n",
       "        text-align: right;\n",
       "    }\n",
       "</style>\n",
       "<table border=\"1\" class=\"dataframe\">\n",
       "  <thead>\n",
       "    <tr style=\"text-align: right;\">\n",
       "      <th></th>\n",
       "      <th>TP</th>\n",
       "      <th>FN</th>\n",
       "      <th>FP</th>\n",
       "      <th>TN</th>\n",
       "    </tr>\n",
       "  </thead>\n",
       "  <tbody>\n",
       "    <tr>\n",
       "      <th>A</th>\n",
       "      <td>37</td>\n",
       "      <td>3</td>\n",
       "      <td>2</td>\n",
       "      <td>278</td>\n",
       "    </tr>\n",
       "    <tr>\n",
       "      <th>DC</th>\n",
       "      <td>31</td>\n",
       "      <td>9</td>\n",
       "      <td>4</td>\n",
       "      <td>276</td>\n",
       "    </tr>\n",
       "    <tr>\n",
       "      <th>FB</th>\n",
       "      <td>33</td>\n",
       "      <td>7</td>\n",
       "      <td>2</td>\n",
       "      <td>276</td>\n",
       "    </tr>\n",
       "    <tr>\n",
       "      <th>LC</th>\n",
       "      <td>40</td>\n",
       "      <td>0</td>\n",
       "      <td>5</td>\n",
       "      <td>278</td>\n",
       "    </tr>\n",
       "    <tr>\n",
       "      <th>MC</th>\n",
       "      <td>38</td>\n",
       "      <td>2</td>\n",
       "      <td>8</td>\n",
       "      <td>275</td>\n",
       "    </tr>\n",
       "    <tr>\n",
       "      <th>PC</th>\n",
       "      <td>32</td>\n",
       "      <td>8</td>\n",
       "      <td>1</td>\n",
       "      <td>272</td>\n",
       "    </tr>\n",
       "    <tr>\n",
       "      <th>PT</th>\n",
       "      <td>40</td>\n",
       "      <td>0</td>\n",
       "      <td>3</td>\n",
       "      <td>277</td>\n",
       "    </tr>\n",
       "    <tr>\n",
       "      <th>TA</th>\n",
       "      <td>35</td>\n",
       "      <td>5</td>\n",
       "      <td>9</td>\n",
       "      <td>271</td>\n",
       "    </tr>\n",
       "  </tbody>\n",
       "</table>\n",
       "</div>"
      ],
      "text/plain": [
       "    TP  FN  FP   TN\n",
       "A   37   3   2  278\n",
       "DC  31   9   4  276\n",
       "FB  33   7   2  276\n",
       "LC  40   0   5  278\n",
       "MC  38   2   8  275\n",
       "PC  32   8   1  272\n",
       "PT  40   0   3  277\n",
       "TA  35   5   9  271"
      ]
     },
     "execution_count": 33,
     "metadata": {},
     "output_type": "execute_result"
    }
   ],
   "source": [
    "df.rename(index={0:'A',1:'DC',2:'FB',3:'LC',4:'MC',5:'PC',6:'PT',7:'TA'},inplace=True)\n",
    "\n",
    "df"
   ]
  },
  {
   "cell_type": "code",
   "execution_count": 101,
   "id": "e9e9d50e",
   "metadata": {},
   "outputs": [],
   "source": [
    "from bokeh.io import output_file, show\n",
    "from bokeh.plotting import figure\n",
    "sublabel=['A','DC','FB','LC','MC','PC','PT','TA']\n",
    "ds=['TP','FN','FP','TN']\n",
    "colors = [\"#c9d9d3\", \"#718dbf\", \"#e84d60\",'#ffa180']\n",
    "\n",
    "data = {'sublabel' : sublabel,\n",
    "        'TP'   : [37,30,30,40,34,30,39,30],\n",
    "        'FN'   : [3,10,10,0,6,10,1,10],\n",
    "        'FP'   : [3,10,5,7,3,5,5,12],\n",
    "        'TN'  :[277,270,270,275,273,277,275,268]  \n",
    "       }\n",
    "p = figure(x_range=sublabel, height=250, title=\"Number of TP,FN,FP,TN with Magnification factors 40X & Data Augumentation\",\n",
    "           toolbar_location=None, tools=\"hover\", tooltips=\"$name @fruits: @$name\")\n",
    "\n",
    "p.vbar_stack(ds, x='sublabel', width=0.9, color=colors, source=data,\n",
    "             legend_label=ds)\n",
    "\n",
    "p.y_range.start = 0\n",
    "p.x_range.range_padding = 0.1\n",
    "p.xgrid.grid_line_color = None\n",
    "p.axis.minor_tick_line_color = None\n",
    "p.outline_line_color = None\n",
    "p.legend.location = \"top_left\"\n",
    "p.legend.orientation = \"horizontal\"\n",
    "\n",
    "show(p)"
   ]
  },
  {
   "cell_type": "code",
   "execution_count": 545,
   "id": "71515ef4",
   "metadata": {},
   "outputs": [
    {
     "data": {
      "text/plain": [
       "\"prediction = model.predict(X_test_features)\\nfrom sklearn.preprocessing import OneHotEncoder\\n#Inverse le transform to get original label back. \\nprediction = le.inverse_transform(prediction)\\nprint(roc_auc_score(y_test,model.predict_proba(X_test_features),multi_class='ovo'))\\n\\n\\n\\n\\nproba =model.predict_proba(X_test_features)\\npredicted_class0=proba[:,0]\\npredicted_class1=proba[:,1]\\npredicted_class2=proba[:,2]\\npredicted_class3=proba[:,3]\\npredicted_class4=proba[:,4]\\npredicted_class5=proba[:,5]\\npredicted_class6=proba[:,6]\\npredicted_class7=proba[:,7]\\nprint('  predicted probality for class 0 is : \\n {}'.format(predicted_class0[:]))\\nprint('  predicted probality for class 1 is : \\n {}'.format(predicted_class1[:]))\\nprint('  predicted probality for class 2 is : \\n {}'.format(predicted_class2[:]))\\nprint('  predicted probality for class 3 is : \\n {}'.format(predicted_class3[:]))\\nprint('  predicted probality for class 4 is : \\n {}'.format(predicted_class4[:]))\\nprint('  predicted probality for class 5 is : \\n {}'.format(predicted_class5[:]))\\nprint('  predicted probality for class 6 is : \\n {}'.format(predicted_class6[:]))\\nprint('  predicted probality for class 7 is : \\n {}'.format(predicted_class7[:]))\""
      ]
     },
     "execution_count": 545,
     "metadata": {},
     "output_type": "execute_result"
    }
   ],
   "source": [
    "\n",
    "\n",
    "'''prediction = model.predict(X_test_features)\n",
    "from sklearn.preprocessing import OneHotEncoder\n",
    "#Inverse le transform to get original label back. \n",
    "prediction = le.inverse_transform(prediction)\n",
    "print(roc_auc_score(y_test,model.predict_proba(X_test_features),multi_class='ovo'))\n",
    "\n",
    "\n",
    "\n",
    "\n",
    "proba =model.predict_proba(X_test_features)\n",
    "predicted_class0=proba[:,0]\n",
    "predicted_class1=proba[:,1]\n",
    "predicted_class2=proba[:,2]\n",
    "predicted_class3=proba[:,3]\n",
    "predicted_class4=proba[:,4]\n",
    "predicted_class5=proba[:,5]\n",
    "predicted_class6=proba[:,6]\n",
    "predicted_class7=proba[:,7]\n",
    "print('  predicted probality for class 0 is : \\n {}'.format(predicted_class0[:]))\n",
    "print('  predicted probality for class 1 is : \\n {}'.format(predicted_class1[:]))\n",
    "print('  predicted probality for class 2 is : \\n {}'.format(predicted_class2[:]))\n",
    "print('  predicted probality for class 3 is : \\n {}'.format(predicted_class3[:]))\n",
    "print('  predicted probality for class 4 is : \\n {}'.format(predicted_class4[:]))\n",
    "print('  predicted probality for class 5 is : \\n {}'.format(predicted_class5[:]))\n",
    "print('  predicted probality for class 6 is : \\n {}'.format(predicted_class6[:]))\n",
    "print('  predicted probality for class 7 is : \\n {}'.format(predicted_class7[:]))'''"
   ]
  },
  {
   "cell_type": "code",
   "execution_count": 546,
   "id": "96ff8d59",
   "metadata": {},
   "outputs": [],
   "source": [
    "#roc_auc_score(y_test, model.predict_proba(X_test_features), multi_class='ovr')"
   ]
  },
  {
   "cell_type": "code",
   "execution_count": 103,
   "id": "3fd6ef11",
   "metadata": {},
   "outputs": [
    {
     "name": "stdout",
     "output_type": "stream",
     "text": [
      "                     precision    recall  f1-score   support\n",
      "\n",
      "           Adenosis       0.93      0.93      0.93        40\n",
      "   ductal_carcinoma       0.75      0.75      0.75        40\n",
      "       fibroadenoma       0.86      0.75      0.80        40\n",
      "  lobular_carcinoma       0.85      1.00      0.92        40\n",
      " mucinous-carcinoma       0.92      0.85      0.88        40\n",
      "papillary-carcinoma       0.86      0.75      0.80        40\n",
      "    phyllodes_tumor       0.89      0.97      0.93        40\n",
      "    tubular-adenoma       0.71      0.75      0.73        40\n",
      "\n",
      "           accuracy                           0.84       320\n",
      "          macro avg       0.84      0.84      0.84       320\n",
      "       weighted avg       0.84      0.84      0.84       320\n",
      "\n"
     ]
    }
   ],
   "source": [
    "from sklearn.metrics import classification_report\n",
    ">>> target_names =['Adenosis', 'ductal_carcinoma','fibroadenoma','lobular_carcinoma','mucinous-carcinoma','papillary-carcinoma','phyllodes_tumor','tubular-adenoma']\n",
    ">>> print(classification_report(y_test, predictions,target_names=target_names))"
   ]
  },
  {
   "cell_type": "code",
   "execution_count": 104,
   "id": "c724b618",
   "metadata": {},
   "outputs": [
    {
     "name": "stdout",
     "output_type": "stream",
     "text": [
      "<class 'list'>\n"
     ]
    }
   ],
   "source": []
  },
  {
   "cell_type": "code",
   "execution_count": 106,
   "id": "56ec6381",
   "metadata": {},
   "outputs": [
    {
     "name": "stdout",
     "output_type": "stream",
     "text": [
      "                          subclass  precision  recall  f1-score\n",
      "0                               AD       0.93    0.93      0.93\n",
      "1                               DC       0.75    0.75      0.75\n",
      "2                               FB       0.86    0.75      0.80\n",
      "3                               LC       0.85    1.00      0.92\n",
      "4                               MC       0.92    0.85      0.88\n",
      "5                               PC       0.86    0.75      0.80\n",
      "6                               PT       0.89    0.97      0.93\n",
      "7                              TA        0.71    0.75      0.73\n"
     ]
    }
   ],
   "source": [
    "# importing pandas as pd\n",
    "import pandas as pd\n",
    "  \n",
    "# import the StrinIO function\n",
    "# from io module\n",
    "from io import StringIO\n",
    "  \n",
    "# wrap the string data in StringIO function\n",
    "StringData = StringIO(\"\"\"subclass;precision;recall;f1-score\n",
    "                            AD;0.93;0.93;0.93 \n",
    "                            DC;0.75;0.75;0.75\n",
    "                            FB;0.86;0.75;0.80\n",
    "                            LC;0.85;1.00;0.92\n",
    "                            MC;0.92;0.85;0.88\n",
    "                            PC;0.86;0.75;0.80\n",
    "                            PT;0.89;0.97;0.93\n",
    "                            TA ;0.71;0.75;0.73 \"\"\")\n",
    "  \n",
    "# let's read the data using the Pandas\n",
    "# read_csv() function\n",
    "df = pd.read_csv(StringData, sep =\";\")\n",
    "  \n",
    "# Print the dataframe\n",
    "\n",
    "print(df)\n",
    "\n"
   ]
  },
  {
   "cell_type": "code",
   "execution_count": 107,
   "id": "5e3b66d5",
   "metadata": {},
   "outputs": [
    {
     "name": "stdout",
     "output_type": "stream",
     "text": [
      "                                 precision  recall  f1-score\n",
      "subclass                                                    \n",
      "                            AD        0.93    0.93      0.93\n",
      "                            DC        0.75    0.75      0.75\n",
      "                            FB        0.86    0.75      0.80\n",
      "                            LC        0.85    1.00      0.92\n",
      "                            MC        0.92    0.85      0.88\n",
      "                            PC        0.86    0.75      0.80\n",
      "                            PT        0.89    0.97      0.93\n",
      "                            TA        0.71    0.75      0.73\n"
     ]
    }
   ],
   "source": [
    "df=df.set_index('subclass')\n",
    "print(df)"
   ]
  },
  {
   "cell_type": "code",
   "execution_count": 108,
   "id": "6d3a3c28",
   "metadata": {},
   "outputs": [],
   "source": [
    "\n",
    "df.sort_values('f1-score',inplace=True)"
   ]
  },
  {
   "cell_type": "code",
   "execution_count": 111,
   "id": "ed8e4298",
   "metadata": {},
   "outputs": [
    {
     "data": {
      "image/png": "[encoded data removed]",
      "text/plain": [
       "<Figure size 432x288 with 1 Axes>"
      ]
     },
     "metadata": {
      "needs_background": "light"
     },
     "output_type": "display_data"
    }
   ],
   "source": [
    "df.plot.bar(stacked=True,colormap='tab20b',title='Classification Report for 40X_using Data Augmentation');"
   ]
  }
 ],
 "metadata": {
  "kernelspec": {
   "display_name": "Python 3 (ipykernel)",
   "language": "python",
   "name": "python3"
  },
  "language_info": {
   "codemirror_mode": {
    "name": "ipython",
    "version": 3
   },
   "file_extension": ".py",
   "mimetype": "text/x-python",
   "name": "python",
   "nbconvert_exporter": "python",
   "pygments_lexer": "ipython3",
   "version": "3.8.10"
  }
 },
 "nbformat": 4,
 "nbformat_minor": 5
}
